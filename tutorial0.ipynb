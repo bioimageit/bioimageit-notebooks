{
 "cells": [
  {
   "cell_type": "markdown",
   "metadata": {},
   "source": [
    "# BioImagePy: install\n",
    "\n",
    "In this tutorial, we will show several methods to install **BioImagePy**. **BioImagePy** is a python library written in *python 3*. It allows to generate and manipulate metadata files which are text files in *json* format with the extension `.md.json` and to run processes as *subprocess* on taged data.\n",
    "\n",
    "As a python3 library, **BioImagePy** can be installed by three methods: \n",
    "1. Add the library to the path\n",
    "2. Using *pip*\n",
    "3. Using *conda*"
   ]
  },
  {
   "cell_type": "markdown",
   "metadata": {},
   "source": [
    "## Install using the path\n",
    "\n",
    "Since **BioImagePy** has no dependencies to any non-standard python3 libraries, it can be used by simply adding the library path to the sys path:"
   ]
  },
  {
   "cell_type": "code",
   "execution_count": null,
   "metadata": {},
   "outputs": [],
   "source": [
    "# Add BioImagePy to the sys path\n",
    "import sys\n",
    "sys.path.append(\"../bioimagepy\") # change this path to the path of the bioimagepy directory\n",
    "\n",
    "# Import the experiment module and display the help to test if the installation is working\n",
    "import bioimagepy.experiment as experimentpy\n",
    "help(experimentpy)"
   ]
  },
  {
   "cell_type": "markdown",
   "metadata": {},
   "source": [
    "## Install using *pip*\n",
    "\n",
    "*pip* is the python package manager. To install a package with *pip* you just need to run the command `python3 -m pip install SomePackage` "
   ]
  },
  {
   "cell_type": "code",
   "execution_count": null,
   "metadata": {},
   "outputs": [],
   "source": [
    "# install the package\n",
    "python3 -m pip install '../bioimagepy' # change this path to the path of the bioimagepy directory\n",
    "\n",
    "# Import the experiment module and display the help to test if the installation is working\n",
    "import bioimagepy.experiment as experimentpy\n",
    "help(experimentpy)"
   ]
  },
  {
   "cell_type": "markdown",
   "metadata": {},
   "source": [
    "## Install using *Conda*\n",
    "\n",
    "*Conda* is a package manager to distribute packages of any language for any operating system. A *Conda* recipe is avalable for **BioImagePy** in the repository *bioimagepy-package*\n",
    "\n",
    "For the current version, no pre-build *Conda* package is available in a *Conda forge*. Then, we need to build a *Conda* package from the recipe and the install it:"
   ]
  },
  {
   "cell_type": "code",
   "execution_count": null,
   "metadata": {},
   "outputs": [],
   "source": [
    "# build conda recipe\n",
    "conda build '../bioimagepy-package/conda'\n",
    "\n",
    "# install\n",
    "conda install '/Users/sprigent/anaconda3/conda-bld/osx-64/bioimagepy-0.1.0-py37_0.tar.bz2' # change this path with\n",
    "# the path given by the previous command\n",
    "\n",
    "# Import the experiment module and display the help to test if the installation is working\n",
    "import bioimagepy.experiment as experimentpy\n",
    "help(experimentpy)"
   ]
  }
 ],
 "metadata": {
  "kernelspec": {
   "display_name": "Python 3",
   "language": "python",
   "name": "python3"
  },
  "language_info": {
   "codemirror_mode": {
    "name": "ipython",
    "version": 3
   },
   "file_extension": ".py",
   "mimetype": "text/x-python",
   "name": "python",
   "nbconvert_exporter": "python",
   "pygments_lexer": "ipython3",
   "version": "3.7.3"
  }
 },
 "nbformat": 4,
 "nbformat_minor": 2
}
