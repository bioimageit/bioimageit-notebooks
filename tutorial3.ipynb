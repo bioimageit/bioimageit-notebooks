{
 "cells": [
  {
   "cell_type": "markdown",
   "metadata": {},
   "source": [
    "# BioImagePy: experiment data processing\n",
    "\n",
    "In this tutorial, we are going to batch process data in an `experiment`. **BioImagePy** comes with a module called `runner`. This module depends on the `experiment` module and the `process` module. Then it gives classes for both running queries data on an `experiment` and run process on selected data and register results to the experiment."
   ]
  },
  {
   "cell_type": "markdown",
   "metadata": {},
   "source": [
    "##### The experiment\n",
    "\n",
    "In this tutorial, we will use the experiment created in the *tutorial1*. The experiment goal is explained in the *tutorial1*. As a reminder, we have two populations of images contained spots in noisy images. In this tutorial, we are going to segment and count the spots, and then run a statistical test to conclude if the two population have significantly different number of spots. "
   ]
  },
  {
   "cell_type": "markdown",
   "metadata": {},
   "source": [
    "## The Runner class\n",
    "\n",
    "The **BioImagePy** runner module contains the main class `BiRunnerExperiment`. It's the only class we are going to use to process the data. Let's look the module documentation: "
   ]
  },
  {
   "cell_type": "code",
   "execution_count": null,
   "metadata": {},
   "outputs": [],
   "source": [
    "import sys\n",
    "sys.path.append(\"/Users/sprigent/Documents/code/bioimagepy\") # change this path to the path where you install bioimagepy\n",
    "\n",
    "import bioimagepy.runner as runnerpy\n",
    "\n",
    "help(runnerpy)"
   ]
  },
  {
   "cell_type": "markdown",
   "metadata": {},
   "source": [
    "## Open the experiment\n",
    "\n",
    "Thus, we need to create an instance of the experiment to process, and to give it to the `BiRunnerExperiment` class, and setup the class with the process inputs & outputs."
   ]
  },
  {
   "cell_type": "code",
   "execution_count": null,
   "metadata": {},
   "outputs": [],
   "source": [
    "import bioimagepy.experiment as experimentpy\n",
    "\n",
    "# open the experiment\n",
    "myexperiment = experimentpy.BiExperiment('./myexperiment/experiment.md.json')\n",
    "print(\"experiment opened\")\n"
   ]
  },
  {
   "cell_type": "markdown",
   "metadata": {},
   "source": [
    "## Processing\n",
    "\n",
    "In the following of this tutorial, we are going to process the data in 3 steps.\n",
    "1. Image deconvolution on each image to ease the spot segmentation\n",
    "2. Auto thresholding and particle analysis on the deconvolutes images\n",
    "3. Statistical testing with the wilcoxon test to conclude if the two population have significantly different number of spots\n",
    "\n",
    "The 3 proposed steps are just one possible way to analyse the data, to illustrate the use of BioImagePy. Many other processing workflow are possible to analyse this dataset, but it is not the purpose of this tutorial."
   ]
  },
  {
   "cell_type": "markdown",
   "metadata": {},
   "source": [
    "### Step 1: image deconvolution\n",
    "\n",
    "To make the spot segmentation easier to identify, we chose to preprocess the data with a deconvolution algorithm. The selected algorithm is the SVDeconv2D and it is available in **BioImagePy** using the `svdeconv2d.xml` wrapper. \n",
    "\n",
    "We thus instantiate a `BiRunnerExperiment`, we set the process to the `svdeconv2d.xml` process, add the input called *-i* to the dataset *data* with an empty query to select all the data in the *data* dataset"
   ]
  },
  {
   "cell_type": "code",
   "execution_count": null,
   "metadata": {
    "scrolled": true
   },
   "outputs": [],
   "source": [
    "runner = runnerpy.BiRunnerExperiment(myexperiment) \n",
    "# change this path to where you installed svdeconv2d\n",
    "runner.set_process('/Users/sprigent/Documents/code/serpico/svdeconv/build/bin/svdeconv2d.xml', '-sigma', '3', '-weighting', '0.1', '-regularization', '2') \n",
    "runner.add_input('-i', 'data', '')\n",
    "runner.run()"
   ]
  },
  {
   "cell_type": "markdown",
   "metadata": {},
   "source": [
    "Let visualize the obtained results:"
   ]
  },
  {
   "cell_type": "code",
   "execution_count": null,
   "metadata": {},
   "outputs": [],
   "source": [
    "from bioimagepy.metadata import BiRawData, BiProcessedData\n",
    "import matplotlib.pyplot as plt\n",
    "import matplotlib.image as mpimg\n",
    "\n",
    "# get the first processed data\n",
    "processed_data = myexperiment.processeddataset(0).processed_data(0)\n",
    "\n",
    "# get the origin data\n",
    "origin_data = BiRawData(processed_data.origin_data())\n",
    "\n",
    "# plot the origin data\n",
    "img=mpimg.imread(origin_data.url())\n",
    "imgplot = plt.imshow(img)\n",
    "plt.show()\n",
    "\n",
    "# plot the processed data\n",
    "img=mpimg.imread(processed_data.url())\n",
    "imgplot = plt.imshow(img)\n",
    "plt.show()"
   ]
  },
  {
   "cell_type": "markdown",
   "metadata": {},
   "source": [
    "### Step 2: Image segmentation\n",
    "\n",
    "In this step, we apply an automatique threshold and a particle analysis in each images in order to obtain the number of spots in each images.\n",
    "\n",
    "The selected algorithm is a Fiji macro that runs a auto-threshold and an analyse particles. It is available in **BioImagePy** using the `threshold_particles.xml` wrapper. \n",
    "\n",
    "We thus instantiate a `BiRunnerExperiment`, we set the process to the `threshold_particles.xml` process, add the input called *-input* to the dataset *SV_Deconv_2D* with an empty query to select all the data in the *data* dataset"
   ]
  },
  {
   "cell_type": "code",
   "execution_count": null,
   "metadata": {},
   "outputs": [],
   "source": [
    "runner = runnerpy.BiRunnerExperiment(myexperiment)   \n",
    "runner.set_process('/Users/sprigent/Documents/code/bioimageit/data/processes/threshold_particles.xml', '-threshold', 'Default dark') \n",
    "runner.add_input('-input', 'SV_Deconv_2D', '')\n",
    "runner.run()"
   ]
  },
  {
   "cell_type": "markdown",
   "metadata": {},
   "source": [
    "### Step 3: Statistical test\n",
    "\n",
    "In the previous step, the segmentation algorithm calulated the number of spots for each images. Then, we now need to perform a statistical test to measure if the spot number is statistically different for the two populations.\n",
    "\n",
    "We will use the Wilcoxon test available in **BioImagePy** using the `wilcoxon.xml` wrapper. \n"
   ]
  },
  {
   "cell_type": "code",
   "execution_count": null,
   "metadata": {},
   "outputs": [],
   "source": [
    "runner = runnerpy.BiRunnerExperiment(myexperiment)   \n",
    "runner.set_process('/Users/sprigent/Documents/code/bioimageit/data/processes/wilcoxon.xml') \n",
    "runner.add_input('-x', 'Count_particles', 'Population=population1', '-count')\n",
    "runner.add_input('-y', 'Count_particles', 'Population=population2', '-count')\n",
    "runner.run() "
   ]
  },
  {
   "cell_type": "markdown",
   "metadata": {},
   "source": [
    "With the code above, the Wilcoxon test has been performed between *population1* and *population2* using the result `-count` of the process `Count_partices`. \n",
    "\n",
    "Because the `wilcoxon.xml` process works on merged data, we do not need to 'manualy' merge the coint results in array files since **BioImagePy** do it for us.\n",
    "\n",
    "Now we can read the results of the Wicoxon test:"
   ]
  },
  {
   "cell_type": "code",
   "execution_count": null,
   "metadata": {},
   "outputs": [],
   "source": [
    "wilcoxon_pvalue_file = myexperiment.processeddataset_by_name('Wilcoxon').processed_data_by_name('-p').url()\n",
    "\n",
    "with open(wilcoxon_pvalue_file, 'r') as content_file:\n",
    "    p = content_file.read()\n",
    "    \n",
    "print('p-value=', p)    "
   ]
  }
 ],
 "metadata": {
  "kernelspec": {
   "display_name": "Python 3",
   "language": "python",
   "name": "python3"
  },
  "language_info": {
   "codemirror_mode": {
    "name": "ipython",
    "version": 3
   },
   "file_extension": ".py",
   "mimetype": "text/x-python",
   "name": "python",
   "nbconvert_exporter": "python",
   "pygments_lexer": "ipython3",
   "version": "3.7.3"
  }
 },
 "nbformat": 4,
 "nbformat_minor": 2
}
