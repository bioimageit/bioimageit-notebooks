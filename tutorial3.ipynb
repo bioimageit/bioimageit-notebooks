{
 "cells": [
  {
   "cell_type": "markdown",
   "metadata": {},
   "source": [
    "# BioImagePy: experiment data processing\n",
    "\n",
    "In this tutorial, we are going to batch process data in an `experiment`. **BioImagePy** comes with a module called `runner`. This module depends on the `experiment` module and the `process` module. Then it gives classes for both running queries data on an `experiment` and run process on selected data and register results to the experiment."
   ]
  },
  {
   "cell_type": "markdown",
   "metadata": {},
   "source": [
    "##### The experiment\n",
    "\n",
    "In this tutorial, we will use the experiment created in the *tutorial1*. The experiment goal is explained in the *tutorial1*. As a reminder, we have two populations of images contained spots in noisy images. In this tutorial, we are going to segment and count the spots, and then run a statistical test to conclude if the two population have significantly different number of spots. "
   ]
  },
  {
   "cell_type": "markdown",
   "metadata": {},
   "source": [
    "## The Runner class\n",
    "\n",
    "The **BioImagePy** runner module contains the main class `BiRunnerExperiment`. It's the only class we are going to use to process the data. Let's look the module documentation: "
   ]
  },
  {
   "cell_type": "code",
   "execution_count": 1,
   "metadata": {},
   "outputs": [
    {
     "name": "stdout",
     "output_type": "stream",
     "text": [
      "Help on module bioimagepy.runner in bioimagepy:\n",
      "\n",
      "NAME\n",
      "    bioimagepy.runner - runner module.\n",
      "\n",
      "DESCRIPTION\n",
      "    This module contains the BiRunnerExperiment class that allows to run processes\n",
      "    on an BiExperiment data (raw data and processed data). Results are automatically\n",
      "    stored and indexed in a new BiProcessedDataSet in the BiExperiment\n",
      "    \n",
      "    Example\n",
      "    -------\n",
      "        Here is an example of how to run a process on all the data of the RawDataSet called 'data'\n",
      "        and where the tag 'Population'='population1':\n",
      "    \n",
      "            >>> from bioimagepy.runner import BiRunnerExperiment\n",
      "            >>> runner = BiRunnerExperiment(myexperiment)   \n",
      "            >>> runner.set_process('/path/to/process/svdeconv2d.xml',\n",
      "            >>>                '-sigma', '3', '-weighting', '0.1', '-regularization', '2') \n",
      "            >>> runner.add_input('-i', 'data', 'Population=population1 AND ID=002')\n",
      "            >>> runner.run()\n",
      "    \n",
      "    Classes\n",
      "    -------\n",
      "    BiRunnerExperiment\n",
      "    \n",
      "    Raises\n",
      "    ------\n",
      "    BiRunnerException\n",
      "\n",
      "CLASSES\n",
      "    builtins.Exception(builtins.BaseException)\n",
      "        BiRunnerException\n",
      "    builtins.object\n",
      "        BiRunnerExperiment\n",
      "    \n",
      "    class BiRunnerException(builtins.Exception)\n",
      "     |  Raised when an error occure in the run of a process\n",
      "     |  \n",
      "     |  Method resolution order:\n",
      "     |      BiRunnerException\n",
      "     |      builtins.Exception\n",
      "     |      builtins.BaseException\n",
      "     |      builtins.object\n",
      "     |  \n",
      "     |  Data descriptors defined here:\n",
      "     |  \n",
      "     |  __weakref__\n",
      "     |      list of weak references to the object (if defined)\n",
      "     |  \n",
      "     |  ----------------------------------------------------------------------\n",
      "     |  Methods inherited from builtins.Exception:\n",
      "     |  \n",
      "     |  __init__(self, /, *args, **kwargs)\n",
      "     |      Initialize self.  See help(type(self)) for accurate signature.\n",
      "     |  \n",
      "     |  ----------------------------------------------------------------------\n",
      "     |  Static methods inherited from builtins.Exception:\n",
      "     |  \n",
      "     |  __new__(*args, **kwargs) from builtins.type\n",
      "     |      Create and return a new object.  See help(type) for accurate signature.\n",
      "     |  \n",
      "     |  ----------------------------------------------------------------------\n",
      "     |  Methods inherited from builtins.BaseException:\n",
      "     |  \n",
      "     |  __delattr__(self, name, /)\n",
      "     |      Implement delattr(self, name).\n",
      "     |  \n",
      "     |  __getattribute__(self, name, /)\n",
      "     |      Return getattr(self, name).\n",
      "     |  \n",
      "     |  __reduce__(...)\n",
      "     |      Helper for pickle.\n",
      "     |  \n",
      "     |  __repr__(self, /)\n",
      "     |      Return repr(self).\n",
      "     |  \n",
      "     |  __setattr__(self, name, value, /)\n",
      "     |      Implement setattr(self, name, value).\n",
      "     |  \n",
      "     |  __setstate__(...)\n",
      "     |  \n",
      "     |  __str__(self, /)\n",
      "     |      Return str(self).\n",
      "     |  \n",
      "     |  with_traceback(...)\n",
      "     |      Exception.with_traceback(tb) --\n",
      "     |      set self.__traceback__ to tb and return self.\n",
      "     |  \n",
      "     |  ----------------------------------------------------------------------\n",
      "     |  Data descriptors inherited from builtins.BaseException:\n",
      "     |  \n",
      "     |  __cause__\n",
      "     |      exception cause\n",
      "     |  \n",
      "     |  __context__\n",
      "     |      exception context\n",
      "     |  \n",
      "     |  __dict__\n",
      "     |  \n",
      "     |  __suppress_context__\n",
      "     |  \n",
      "     |  __traceback__\n",
      "     |  \n",
      "     |  args\n",
      "    \n",
      "    class BiRunnerExperiment(builtins.object)\n",
      "     |  BiRunnerExperiment(experiment: bioimagepy.experiment.BiExperiment)\n",
      "     |  \n",
      "     |  Class to run a process on a BiExperiment data\n",
      "     |  \n",
      "     |  The process runner needs an experiment, a process XML description file, \n",
      "     |  a query on the experiment data to select the process inputs and the process\n",
      "     |  parameters. The experiment is given in the constructor whereas the other\n",
      "     |  arguments are given using setters (see example in the module doc)\n",
      "     |  \n",
      "     |  Parameters\n",
      "     |  ----------\n",
      "     |      md_file_url (str): Path of the experiment.md.json file.\n",
      "     |  \n",
      "     |  Attributes\n",
      "     |  ----------\n",
      "     |      metadata (tuple): json metadata description.\n",
      "     |  \n",
      "     |  Methods defined here:\n",
      "     |  \n",
      "     |  __init__(self, experiment: bioimagepy.experiment.BiExperiment)\n",
      "     |      Initialize self.  See help(type(self)) for accurate signature.\n",
      "     |  \n",
      "     |  add_input(self, name: str, dataset: str, query: str, origin_output_name: str = '')\n",
      "     |      Add an input (ie data) to the process\n",
      "     |      \n",
      "     |      Parameters\n",
      "     |      ----------\n",
      "     |      name\n",
      "     |          Name of the input in the process XML file (ex: -i)\n",
      "     |      \n",
      "     |      dataset\n",
      "     |          Name of the dataset where the data come from (ex: data)\n",
      "     |      \n",
      "     |      query\n",
      "     |          Query to filter the data (ex: \"Population=population1\") leave blank for no filtering\n",
      "     |  \n",
      "     |  add_observer(self, observer: bioimagepy.core.BiProgressObserver)\n",
      "     |  \n",
      "     |  exec(self)\n",
      "     |      Run the process\n",
      "     |      \n",
      "     |      This is a convenient function for API\n",
      "     |  \n",
      "     |  run(self)\n",
      "     |      Run the process\n",
      "     |      \n",
      "     |      This is the main function that run the process on the experiment data\n",
      "     |      \n",
      "     |      Raises\n",
      "     |      ------\n",
      "     |      BiRunnerException\n",
      "     |  \n",
      "     |  run_merged(self)\n",
      "     |      Run the process merging the inputs\n",
      "     |      \n",
      "     |      This is the main function that run the process on the experiment data\n",
      "     |      \n",
      "     |      Raises\n",
      "     |      ------\n",
      "     |      BiRunnerException\n",
      "     |  \n",
      "     |  run_sequence(self)\n",
      "     |      Run the process in a sequence\n",
      "     |      \n",
      "     |      This is the main function that run the process on the experiment data\n",
      "     |      \n",
      "     |      Raises\n",
      "     |      ------\n",
      "     |      BiRunnerException\n",
      "     |  \n",
      "     |  set_author(self, author: str)\n",
      "     |  \n",
      "     |  set_config(self, config: bioimagepy.core.BiConfig)\n",
      "     |  \n",
      "     |  set_process(self, process_xml_file: str, *params)\n",
      "     |      set the runner process\n",
      "     |      \n",
      "     |      Parameters\n",
      "     |      ----------\n",
      "     |      process_xml_file\n",
      "     |          URL of the XML file describing the process\n",
      "     |      \n",
      "     |      *params\n",
      "     |          List of the parameters (ex: \"-sigma, 2, -weighting, 7\")\n",
      "     |  \n",
      "     |  ----------------------------------------------------------------------\n",
      "     |  Data descriptors defined here:\n",
      "     |  \n",
      "     |  __dict__\n",
      "     |      dictionary for instance variables (if defined)\n",
      "     |  \n",
      "     |  __weakref__\n",
      "     |      list of weak references to the object (if defined)\n",
      "\n",
      "FILE\n",
      "    /Users/sprigent/Documents/code/tuto/bioimagepy/bioimagepy/runner.py\n",
      "\n",
      "\n"
     ]
    }
   ],
   "source": [
    "import sys\n",
    "sys.path.append(\"../bioimagepy\") # change this path to the path where you install bioimagepy\n",
    "\n",
    "import bioimagepy.runner as runnerpy\n",
    "from bioimagepy.core import BiConfig\n",
    "\n",
    "help(runnerpy)"
   ]
  },
  {
   "cell_type": "markdown",
   "metadata": {},
   "source": [
    "## Open the experiment\n",
    "\n",
    "Thus, we need to create an instance of the experiment to process, and to give it to the `BiRunnerExperiment` class, and setup the class with the process inputs & outputs."
   ]
  },
  {
   "cell_type": "code",
   "execution_count": 2,
   "metadata": {},
   "outputs": [
    {
     "name": "stdout",
     "output_type": "stream",
     "text": [
      "experiment opened\n"
     ]
    }
   ],
   "source": [
    "import bioimagepy.experiment as experimentpy\n",
    "\n",
    "# open the experiment\n",
    "myexperiment = experimentpy.BiExperiment('./myexperiment/experiment.md.json')\n",
    "print(\"experiment opened\")\n"
   ]
  },
  {
   "cell_type": "markdown",
   "metadata": {},
   "source": [
    "## Processing\n",
    "\n",
    "In the following of this tutorial, we are going to process the data in 3 steps.\n",
    "1. Image deconvolution on each image to ease the spot segmentation\n",
    "2. Auto thresholding and particle analysis on the deconvolutes images\n",
    "3. Statistical testing with the wilcoxon test to conclude if the two population have significantly different number of spots\n",
    "\n",
    "The 3 proposed steps are just one possible way to analyse the data, to illustrate the use of BioImagePy. Many other processing workflow are possible to analyse this dataset, but it is not the purpose of this tutorial."
   ]
  },
  {
   "cell_type": "markdown",
   "metadata": {},
   "source": [
    "### Step 1: image deconvolution\n",
    "\n",
    "To make the spot segmentation easier to identify, we chose to preprocess the data with a deconvolution algorithm. The selected algorithm is the SVDeconv2D and it is available in **BioImagePy** using the `svdeconv2d.xml` wrapper. \n",
    "\n",
    "We thus instantiate a `BiRunnerExperiment`, we set the process to the `svdeconv2d.xml` process, add the input called *-i* to the dataset *data* with an empty query to select all the data in the *data* dataset"
   ]
  },
  {
   "cell_type": "code",
   "execution_count": 4,
   "metadata": {
    "scrolled": true
   },
   "outputs": [
    {
     "name": "stdout",
     "output_type": "stream",
     "text": [
      "cmd: /Users/sprigent/Documents/code/tuto/toolshed/svdeconv/wrappers/../bin/svdeconv2d -i /Users/sprigent/Documents/code/tuto/bioimagepy-tutorial/myexperiment/data/population1_001.tif -o /Users/sprigent/Documents/code/tuto/bioimagepy-tutorial/myexperiment/SV_Deconv_2D/population1_001_-o.tif -sigma 3 -regularization 2 -weighting 0.1 -method SV -niter 200\n",
      "cmd: /Users/sprigent/Documents/code/tuto/toolshed/svdeconv/wrappers/../bin/svdeconv2d -i /Users/sprigent/Documents/code/tuto/bioimagepy-tutorial/myexperiment/data/population1_015.tif -o /Users/sprigent/Documents/code/tuto/bioimagepy-tutorial/myexperiment/SV_Deconv_2D/population1_015_-o.tif -sigma 3 -regularization 2 -weighting 0.1 -method SV -niter 200\n",
      "cmd: /Users/sprigent/Documents/code/tuto/toolshed/svdeconv/wrappers/../bin/svdeconv2d -i /Users/sprigent/Documents/code/tuto/bioimagepy-tutorial/myexperiment/data/population1_014.tif -o /Users/sprigent/Documents/code/tuto/bioimagepy-tutorial/myexperiment/SV_Deconv_2D/population1_014_-o.tif -sigma 3 -regularization 2 -weighting 0.1 -method SV -niter 200\n",
      "cmd: /Users/sprigent/Documents/code/tuto/toolshed/svdeconv/wrappers/../bin/svdeconv2d -i /Users/sprigent/Documents/code/tuto/bioimagepy-tutorial/myexperiment/data/population1_016.tif -o /Users/sprigent/Documents/code/tuto/bioimagepy-tutorial/myexperiment/SV_Deconv_2D/population1_016_-o.tif -sigma 3 -regularization 2 -weighting 0.1 -method SV -niter 200\n",
      "cmd: /Users/sprigent/Documents/code/tuto/toolshed/svdeconv/wrappers/../bin/svdeconv2d -i /Users/sprigent/Documents/code/tuto/bioimagepy-tutorial/myexperiment/data/population1_002.tif -o /Users/sprigent/Documents/code/tuto/bioimagepy-tutorial/myexperiment/SV_Deconv_2D/population1_002_-o.tif -sigma 3 -regularization 2 -weighting 0.1 -method SV -niter 200\n",
      "cmd: /Users/sprigent/Documents/code/tuto/toolshed/svdeconv/wrappers/../bin/svdeconv2d -i /Users/sprigent/Documents/code/tuto/bioimagepy-tutorial/myexperiment/data/population1_003.tif -o /Users/sprigent/Documents/code/tuto/bioimagepy-tutorial/myexperiment/SV_Deconv_2D/population1_003_-o.tif -sigma 3 -regularization 2 -weighting 0.1 -method SV -niter 200\n",
      "cmd: /Users/sprigent/Documents/code/tuto/toolshed/svdeconv/wrappers/../bin/svdeconv2d -i /Users/sprigent/Documents/code/tuto/bioimagepy-tutorial/myexperiment/data/population1_017.tif -o /Users/sprigent/Documents/code/tuto/bioimagepy-tutorial/myexperiment/SV_Deconv_2D/population1_017_-o.tif -sigma 3 -regularization 2 -weighting 0.1 -method SV -niter 200\n",
      "cmd: /Users/sprigent/Documents/code/tuto/toolshed/svdeconv/wrappers/../bin/svdeconv2d -i /Users/sprigent/Documents/code/tuto/bioimagepy-tutorial/myexperiment/data/population1_013.tif -o /Users/sprigent/Documents/code/tuto/bioimagepy-tutorial/myexperiment/SV_Deconv_2D/population1_013_-o.tif -sigma 3 -regularization 2 -weighting 0.1 -method SV -niter 200\n",
      "cmd: /Users/sprigent/Documents/code/tuto/toolshed/svdeconv/wrappers/../bin/svdeconv2d -i /Users/sprigent/Documents/code/tuto/bioimagepy-tutorial/myexperiment/data/population1_007.tif -o /Users/sprigent/Documents/code/tuto/bioimagepy-tutorial/myexperiment/SV_Deconv_2D/population1_007_-o.tif -sigma 3 -regularization 2 -weighting 0.1 -method SV -niter 200\n",
      "cmd: /Users/sprigent/Documents/code/tuto/toolshed/svdeconv/wrappers/../bin/svdeconv2d -i /Users/sprigent/Documents/code/tuto/bioimagepy-tutorial/myexperiment/data/population1_006.tif -o /Users/sprigent/Documents/code/tuto/bioimagepy-tutorial/myexperiment/SV_Deconv_2D/population1_006_-o.tif -sigma 3 -regularization 2 -weighting 0.1 -method SV -niter 200\n",
      "cmd: /Users/sprigent/Documents/code/tuto/toolshed/svdeconv/wrappers/../bin/svdeconv2d -i /Users/sprigent/Documents/code/tuto/bioimagepy-tutorial/myexperiment/data/population1_012.tif -o /Users/sprigent/Documents/code/tuto/bioimagepy-tutorial/myexperiment/SV_Deconv_2D/population1_012_-o.tif -sigma 3 -regularization 2 -weighting 0.1 -method SV -niter 200\n",
      "cmd: /Users/sprigent/Documents/code/tuto/toolshed/svdeconv/wrappers/../bin/svdeconv2d -i /Users/sprigent/Documents/code/tuto/bioimagepy-tutorial/myexperiment/data/population1_004.tif -o /Users/sprigent/Documents/code/tuto/bioimagepy-tutorial/myexperiment/SV_Deconv_2D/population1_004_-o.tif -sigma 3 -regularization 2 -weighting 0.1 -method SV -niter 200\n",
      "cmd: /Users/sprigent/Documents/code/tuto/toolshed/svdeconv/wrappers/../bin/svdeconv2d -i /Users/sprigent/Documents/code/tuto/bioimagepy-tutorial/myexperiment/data/population1_010.tif -o /Users/sprigent/Documents/code/tuto/bioimagepy-tutorial/myexperiment/SV_Deconv_2D/population1_010_-o.tif -sigma 3 -regularization 2 -weighting 0.1 -method SV -niter 200\n",
      "cmd: /Users/sprigent/Documents/code/tuto/toolshed/svdeconv/wrappers/../bin/svdeconv2d -i /Users/sprigent/Documents/code/tuto/bioimagepy-tutorial/myexperiment/data/population1_011.tif -o /Users/sprigent/Documents/code/tuto/bioimagepy-tutorial/myexperiment/SV_Deconv_2D/population1_011_-o.tif -sigma 3 -regularization 2 -weighting 0.1 -method SV -niter 200\n",
      "cmd: /Users/sprigent/Documents/code/tuto/toolshed/svdeconv/wrappers/../bin/svdeconv2d -i /Users/sprigent/Documents/code/tuto/bioimagepy-tutorial/myexperiment/data/population1_005.tif -o /Users/sprigent/Documents/code/tuto/bioimagepy-tutorial/myexperiment/SV_Deconv_2D/population1_005_-o.tif -sigma 3 -regularization 2 -weighting 0.1 -method SV -niter 200\n",
      "cmd: /Users/sprigent/Documents/code/tuto/toolshed/svdeconv/wrappers/../bin/svdeconv2d -i /Users/sprigent/Documents/code/tuto/bioimagepy-tutorial/myexperiment/data/population2_016.tif -o /Users/sprigent/Documents/code/tuto/bioimagepy-tutorial/myexperiment/SV_Deconv_2D/population2_016_-o.tif -sigma 3 -regularization 2 -weighting 0.1 -method SV -niter 200\n",
      "cmd: /Users/sprigent/Documents/code/tuto/toolshed/svdeconv/wrappers/../bin/svdeconv2d -i /Users/sprigent/Documents/code/tuto/bioimagepy-tutorial/myexperiment/data/population2_002.tif -o /Users/sprigent/Documents/code/tuto/bioimagepy-tutorial/myexperiment/SV_Deconv_2D/population2_002_-o.tif -sigma 3 -regularization 2 -weighting 0.1 -method SV -niter 200\n",
      "cmd: /Users/sprigent/Documents/code/tuto/toolshed/svdeconv/wrappers/../bin/svdeconv2d -i /Users/sprigent/Documents/code/tuto/bioimagepy-tutorial/myexperiment/data/population2_003.tif -o /Users/sprigent/Documents/code/tuto/bioimagepy-tutorial/myexperiment/SV_Deconv_2D/population2_003_-o.tif -sigma 3 -regularization 2 -weighting 0.1 -method SV -niter 200\n",
      "cmd: /Users/sprigent/Documents/code/tuto/toolshed/svdeconv/wrappers/../bin/svdeconv2d -i /Users/sprigent/Documents/code/tuto/bioimagepy-tutorial/myexperiment/data/population2_017.tif -o /Users/sprigent/Documents/code/tuto/bioimagepy-tutorial/myexperiment/SV_Deconv_2D/population2_017_-o.tif -sigma 3 -regularization 2 -weighting 0.1 -method SV -niter 200\n",
      "cmd: /Users/sprigent/Documents/code/tuto/toolshed/svdeconv/wrappers/../bin/svdeconv2d -i /Users/sprigent/Documents/code/tuto/bioimagepy-tutorial/myexperiment/data/population2_001.tif -o /Users/sprigent/Documents/code/tuto/bioimagepy-tutorial/myexperiment/SV_Deconv_2D/population2_001_-o.tif -sigma 3 -regularization 2 -weighting 0.1 -method SV -niter 200\n",
      "cmd: /Users/sprigent/Documents/code/tuto/toolshed/svdeconv/wrappers/../bin/svdeconv2d -i /Users/sprigent/Documents/code/tuto/bioimagepy-tutorial/myexperiment/data/population2_015.tif -o /Users/sprigent/Documents/code/tuto/bioimagepy-tutorial/myexperiment/SV_Deconv_2D/population2_015_-o.tif -sigma 3 -regularization 2 -weighting 0.1 -method SV -niter 200\n",
      "cmd: /Users/sprigent/Documents/code/tuto/toolshed/svdeconv/wrappers/../bin/svdeconv2d -i /Users/sprigent/Documents/code/tuto/bioimagepy-tutorial/myexperiment/data/population2_014.tif -o /Users/sprigent/Documents/code/tuto/bioimagepy-tutorial/myexperiment/SV_Deconv_2D/population2_014_-o.tif -sigma 3 -regularization 2 -weighting 0.1 -method SV -niter 200\n",
      "cmd: /Users/sprigent/Documents/code/tuto/toolshed/svdeconv/wrappers/../bin/svdeconv2d -i /Users/sprigent/Documents/code/tuto/bioimagepy-tutorial/myexperiment/data/population2_004.tif -o /Users/sprigent/Documents/code/tuto/bioimagepy-tutorial/myexperiment/SV_Deconv_2D/population2_004_-o.tif -sigma 3 -regularization 2 -weighting 0.1 -method SV -niter 200\n",
      "cmd: /Users/sprigent/Documents/code/tuto/toolshed/svdeconv/wrappers/../bin/svdeconv2d -i /Users/sprigent/Documents/code/tuto/bioimagepy-tutorial/myexperiment/data/population2_010.tif -o /Users/sprigent/Documents/code/tuto/bioimagepy-tutorial/myexperiment/SV_Deconv_2D/population2_010_-o.tif -sigma 3 -regularization 2 -weighting 0.1 -method SV -niter 200\n"
     ]
    },
    {
     "name": "stdout",
     "output_type": "stream",
     "text": [
      "cmd: /Users/sprigent/Documents/code/tuto/toolshed/svdeconv/wrappers/../bin/svdeconv2d -i /Users/sprigent/Documents/code/tuto/bioimagepy-tutorial/myexperiment/data/population2_011.tif -o /Users/sprigent/Documents/code/tuto/bioimagepy-tutorial/myexperiment/SV_Deconv_2D/population2_011_-o.tif -sigma 3 -regularization 2 -weighting 0.1 -method SV -niter 200\n",
      "cmd: /Users/sprigent/Documents/code/tuto/toolshed/svdeconv/wrappers/../bin/svdeconv2d -i /Users/sprigent/Documents/code/tuto/bioimagepy-tutorial/myexperiment/data/population2_005.tif -o /Users/sprigent/Documents/code/tuto/bioimagepy-tutorial/myexperiment/SV_Deconv_2D/population2_005_-o.tif -sigma 3 -regularization 2 -weighting 0.1 -method SV -niter 200\n",
      "cmd: /Users/sprigent/Documents/code/tuto/toolshed/svdeconv/wrappers/../bin/svdeconv2d -i /Users/sprigent/Documents/code/tuto/bioimagepy-tutorial/myexperiment/data/population2_013.tif -o /Users/sprigent/Documents/code/tuto/bioimagepy-tutorial/myexperiment/SV_Deconv_2D/population2_013_-o.tif -sigma 3 -regularization 2 -weighting 0.1 -method SV -niter 200\n",
      "cmd: /Users/sprigent/Documents/code/tuto/toolshed/svdeconv/wrappers/../bin/svdeconv2d -i /Users/sprigent/Documents/code/tuto/bioimagepy-tutorial/myexperiment/data/population2_007.tif -o /Users/sprigent/Documents/code/tuto/bioimagepy-tutorial/myexperiment/SV_Deconv_2D/population2_007_-o.tif -sigma 3 -regularization 2 -weighting 0.1 -method SV -niter 200\n",
      "cmd: /Users/sprigent/Documents/code/tuto/toolshed/svdeconv/wrappers/../bin/svdeconv2d -i /Users/sprigent/Documents/code/tuto/bioimagepy-tutorial/myexperiment/data/population2_006.tif -o /Users/sprigent/Documents/code/tuto/bioimagepy-tutorial/myexperiment/SV_Deconv_2D/population2_006_-o.tif -sigma 3 -regularization 2 -weighting 0.1 -method SV -niter 200\n",
      "cmd: /Users/sprigent/Documents/code/tuto/toolshed/svdeconv/wrappers/../bin/svdeconv2d -i /Users/sprigent/Documents/code/tuto/bioimagepy-tutorial/myexperiment/data/population2_012.tif -o /Users/sprigent/Documents/code/tuto/bioimagepy-tutorial/myexperiment/SV_Deconv_2D/population2_012_-o.tif -sigma 3 -regularization 2 -weighting 0.1 -method SV -niter 200\n",
      "cmd: /Users/sprigent/Documents/code/tuto/toolshed/svdeconv/wrappers/../bin/svdeconv2d -i /Users/sprigent/Documents/code/tuto/bioimagepy-tutorial/myexperiment/data/population2_020.tif -o /Users/sprigent/Documents/code/tuto/bioimagepy-tutorial/myexperiment/SV_Deconv_2D/population2_020_-o.tif -sigma 3 -regularization 2 -weighting 0.1 -method SV -niter 200\n",
      "cmd: /Users/sprigent/Documents/code/tuto/toolshed/svdeconv/wrappers/../bin/svdeconv2d -i /Users/sprigent/Documents/code/tuto/bioimagepy-tutorial/myexperiment/data/population2_008.tif -o /Users/sprigent/Documents/code/tuto/bioimagepy-tutorial/myexperiment/SV_Deconv_2D/population2_008_-o.tif -sigma 3 -regularization 2 -weighting 0.1 -method SV -niter 200\n",
      "cmd: /Users/sprigent/Documents/code/tuto/toolshed/svdeconv/wrappers/../bin/svdeconv2d -i /Users/sprigent/Documents/code/tuto/bioimagepy-tutorial/myexperiment/data/population2_009.tif -o /Users/sprigent/Documents/code/tuto/bioimagepy-tutorial/myexperiment/SV_Deconv_2D/population2_009_-o.tif -sigma 3 -regularization 2 -weighting 0.1 -method SV -niter 200\n",
      "cmd: /Users/sprigent/Documents/code/tuto/toolshed/svdeconv/wrappers/../bin/svdeconv2d -i /Users/sprigent/Documents/code/tuto/bioimagepy-tutorial/myexperiment/data/population2_019.tif -o /Users/sprigent/Documents/code/tuto/bioimagepy-tutorial/myexperiment/SV_Deconv_2D/population2_019_-o.tif -sigma 3 -regularization 2 -weighting 0.1 -method SV -niter 200\n",
      "cmd: /Users/sprigent/Documents/code/tuto/toolshed/svdeconv/wrappers/../bin/svdeconv2d -i /Users/sprigent/Documents/code/tuto/bioimagepy-tutorial/myexperiment/data/population2_018.tif -o /Users/sprigent/Documents/code/tuto/bioimagepy-tutorial/myexperiment/SV_Deconv_2D/population2_018_-o.tif -sigma 3 -regularization 2 -weighting 0.1 -method SV -niter 200\n",
      "cmd: /Users/sprigent/Documents/code/tuto/toolshed/svdeconv/wrappers/../bin/svdeconv2d -i /Users/sprigent/Documents/code/tuto/bioimagepy-tutorial/myexperiment/data/population1_020.tif -o /Users/sprigent/Documents/code/tuto/bioimagepy-tutorial/myexperiment/SV_Deconv_2D/population1_020_-o.tif -sigma 3 -regularization 2 -weighting 0.1 -method SV -niter 200\n",
      "cmd: /Users/sprigent/Documents/code/tuto/toolshed/svdeconv/wrappers/../bin/svdeconv2d -i /Users/sprigent/Documents/code/tuto/bioimagepy-tutorial/myexperiment/data/population1_008.tif -o /Users/sprigent/Documents/code/tuto/bioimagepy-tutorial/myexperiment/SV_Deconv_2D/population1_008_-o.tif -sigma 3 -regularization 2 -weighting 0.1 -method SV -niter 200\n",
      "cmd: /Users/sprigent/Documents/code/tuto/toolshed/svdeconv/wrappers/../bin/svdeconv2d -i /Users/sprigent/Documents/code/tuto/bioimagepy-tutorial/myexperiment/data/population1_009.tif -o /Users/sprigent/Documents/code/tuto/bioimagepy-tutorial/myexperiment/SV_Deconv_2D/population1_009_-o.tif -sigma 3 -regularization 2 -weighting 0.1 -method SV -niter 200\n",
      "cmd: /Users/sprigent/Documents/code/tuto/toolshed/svdeconv/wrappers/../bin/svdeconv2d -i /Users/sprigent/Documents/code/tuto/bioimagepy-tutorial/myexperiment/data/population1_019.tif -o /Users/sprigent/Documents/code/tuto/bioimagepy-tutorial/myexperiment/SV_Deconv_2D/population1_019_-o.tif -sigma 3 -regularization 2 -weighting 0.1 -method SV -niter 200\n",
      "cmd: /Users/sprigent/Documents/code/tuto/toolshed/svdeconv/wrappers/../bin/svdeconv2d -i /Users/sprigent/Documents/code/tuto/bioimagepy-tutorial/myexperiment/data/population1_018.tif -o /Users/sprigent/Documents/code/tuto/bioimagepy-tutorial/myexperiment/SV_Deconv_2D/population1_018_-o.tif -sigma 3 -regularization 2 -weighting 0.1 -method SV -niter 200\n"
     ]
    }
   ],
   "source": [
    "runner = runnerpy.BiRunnerExperiment(myexperiment) \n",
    "# set the toolshed configuration file to the runner\n",
    "runner.set_config(BiConfig(\"../toolshed/config.json\"))\n",
    "# change this path to where you installed svdeconv2d\n",
    "runner.set_process('../toolshed/svdeconv/wrappers/svdeconv2d.xml', '-sigma', '3', '-weighting', '0.1', '-regularization', '2', '-method', 'SV') \n",
    "runner.add_input('-i', 'data', '')\n",
    "runner.run()"
   ]
  },
  {
   "cell_type": "markdown",
   "metadata": {},
   "source": [
    "Let visualize the obtained results:"
   ]
  },
  {
   "cell_type": "code",
   "execution_count": 6,
   "metadata": {},
   "outputs": [
    {
     "data": {
      "image/png": "[encoded data removed]",
      "text/plain": [
       "<Figure size 432x288 with 1 Axes>"
      ]
     },
     "metadata": {
      "needs_background": "light"
     },
     "output_type": "display_data"
    },
    {
     "data": {
      "image/png": "[encoded data removed]",
      "text/plain": [
       "<Figure size 432x288 with 1 Axes>"
      ]
     },
     "metadata": {
      "needs_background": "light"
     },
     "output_type": "display_data"
    }
   ],
   "source": [
    "from bioimagepy.metadata import BiRawData, BiProcessedData\n",
    "import matplotlib.pyplot as plt\n",
    "import matplotlib.image as mpimg\n",
    "\n",
    "# get the first processed data\n",
    "processed_data = myexperiment.processeddataset(0).processed_data(0)\n",
    "\n",
    "# get the origin data\n",
    "origin_data = BiRawData(processed_data.origin_data())\n",
    "\n",
    "# plot the origin data\n",
    "img=mpimg.imread(origin_data.url())\n",
    "imgplot = plt.imshow(img)\n",
    "plt.show()\n",
    "\n",
    "# plot the processed data\n",
    "img=mpimg.imread(processed_data.url())\n",
    "imgplot = plt.imshow(img)\n",
    "plt.show()"
   ]
  },
  {
   "cell_type": "markdown",
   "metadata": {},
   "source": [
    "### Step 2: Image segmentation\n",
    "\n",
    "In this step, we apply an automatique threshold and a particle analysis in each images in order to obtain the number of spots in each images.\n",
    "\n",
    "The selected algorithm is a Fiji macro that runs a auto-threshold and an analyse particles. It is available in **BioImagePy** using the `threshold_particles.xml` wrapper. \n",
    "\n",
    "We thus instantiate a `BiRunnerExperiment`, we set the process to the `threshold_particles.xml` process, add the input called *-input* to the dataset *SV_Deconv_2D* with an empty query to select all the data in the *data* dataset"
   ]
  },
  {
   "cell_type": "code",
   "execution_count": 7,
   "metadata": {},
   "outputs": [
    {
     "name": "stdout",
     "output_type": "stream",
     "text": [
      "Warning: Cannot find a file corresponding to the program \n",
      "cmd: /Applications/Fiji.app/Contents/MacOS/ImageJ-macosx --headless --console -macro /Users/sprigent/Documents/code/tuto/toolshed/fiji/wrapping/threshold_particles.ijm '[/Users/sprigent/Documents/code/tuto/bioimagepy-tutorial/myexperiment/SV_Deconv_2D/population1_001_-o.tif,Default dark,/Users/sprigent/Documents/code/tuto/bioimagepy-tutorial/myexperiment/Count_particles/population1_001_-o_-draw.tif,/Users/sprigent/Documents/code/tuto/bioimagepy-tutorial/myexperiment/Count_particles/population1_001_-o_-count.csv,/Users/sprigent/Documents/code/tuto/bioimagepy-tutorial/myexperiment/Count_particles/population1_001_-o_-measures.csv]'\n",
      "Warning: Cannot find a file corresponding to the program \n",
      "cmd: /Applications/Fiji.app/Contents/MacOS/ImageJ-macosx --headless --console -macro /Users/sprigent/Documents/code/tuto/toolshed/fiji/wrapping/threshold_particles.ijm '[/Users/sprigent/Documents/code/tuto/bioimagepy-tutorial/myexperiment/SV_Deconv_2D/population1_015_-o.tif,Default dark,/Users/sprigent/Documents/code/tuto/bioimagepy-tutorial/myexperiment/Count_particles/population1_015_-o_-draw.tif,/Users/sprigent/Documents/code/tuto/bioimagepy-tutorial/myexperiment/Count_particles/population1_015_-o_-count.csv,/Users/sprigent/Documents/code/tuto/bioimagepy-tutorial/myexperiment/Count_particles/population1_015_-o_-measures.csv]'\n",
      "Warning: Cannot find a file corresponding to the program \n",
      "cmd: /Applications/Fiji.app/Contents/MacOS/ImageJ-macosx --headless --console -macro /Users/sprigent/Documents/code/tuto/toolshed/fiji/wrapping/threshold_particles.ijm '[/Users/sprigent/Documents/code/tuto/bioimagepy-tutorial/myexperiment/SV_Deconv_2D/population1_014_-o.tif,Default dark,/Users/sprigent/Documents/code/tuto/bioimagepy-tutorial/myexperiment/Count_particles/population1_014_-o_-draw.tif,/Users/sprigent/Documents/code/tuto/bioimagepy-tutorial/myexperiment/Count_particles/population1_014_-o_-count.csv,/Users/sprigent/Documents/code/tuto/bioimagepy-tutorial/myexperiment/Count_particles/population1_014_-o_-measures.csv]'\n",
      "Warning: Cannot find a file corresponding to the program \n",
      "cmd: /Applications/Fiji.app/Contents/MacOS/ImageJ-macosx --headless --console -macro /Users/sprigent/Documents/code/tuto/toolshed/fiji/wrapping/threshold_particles.ijm '[/Users/sprigent/Documents/code/tuto/bioimagepy-tutorial/myexperiment/SV_Deconv_2D/population1_016_-o.tif,Default dark,/Users/sprigent/Documents/code/tuto/bioimagepy-tutorial/myexperiment/Count_particles/population1_016_-o_-draw.tif,/Users/sprigent/Documents/code/tuto/bioimagepy-tutorial/myexperiment/Count_particles/population1_016_-o_-count.csv,/Users/sprigent/Documents/code/tuto/bioimagepy-tutorial/myexperiment/Count_particles/population1_016_-o_-measures.csv]'\n",
      "Warning: Cannot find a file corresponding to the program \n",
      "cmd: /Applications/Fiji.app/Contents/MacOS/ImageJ-macosx --headless --console -macro /Users/sprigent/Documents/code/tuto/toolshed/fiji/wrapping/threshold_particles.ijm '[/Users/sprigent/Documents/code/tuto/bioimagepy-tutorial/myexperiment/SV_Deconv_2D/population1_002_-o.tif,Default dark,/Users/sprigent/Documents/code/tuto/bioimagepy-tutorial/myexperiment/Count_particles/population1_002_-o_-draw.tif,/Users/sprigent/Documents/code/tuto/bioimagepy-tutorial/myexperiment/Count_particles/population1_002_-o_-count.csv,/Users/sprigent/Documents/code/tuto/bioimagepy-tutorial/myexperiment/Count_particles/population1_002_-o_-measures.csv]'\n",
      "Warning: Cannot find a file corresponding to the program \n",
      "cmd: /Applications/Fiji.app/Contents/MacOS/ImageJ-macosx --headless --console -macro /Users/sprigent/Documents/code/tuto/toolshed/fiji/wrapping/threshold_particles.ijm '[/Users/sprigent/Documents/code/tuto/bioimagepy-tutorial/myexperiment/SV_Deconv_2D/population1_003_-o.tif,Default dark,/Users/sprigent/Documents/code/tuto/bioimagepy-tutorial/myexperiment/Count_particles/population1_003_-o_-draw.tif,/Users/sprigent/Documents/code/tuto/bioimagepy-tutorial/myexperiment/Count_particles/population1_003_-o_-count.csv,/Users/sprigent/Documents/code/tuto/bioimagepy-tutorial/myexperiment/Count_particles/population1_003_-o_-measures.csv]'\n",
      "Warning: Cannot find a file corresponding to the program \n",
      "cmd: /Applications/Fiji.app/Contents/MacOS/ImageJ-macosx --headless --console -macro /Users/sprigent/Documents/code/tuto/toolshed/fiji/wrapping/threshold_particles.ijm '[/Users/sprigent/Documents/code/tuto/bioimagepy-tutorial/myexperiment/SV_Deconv_2D/population1_017_-o.tif,Default dark,/Users/sprigent/Documents/code/tuto/bioimagepy-tutorial/myexperiment/Count_particles/population1_017_-o_-draw.tif,/Users/sprigent/Documents/code/tuto/bioimagepy-tutorial/myexperiment/Count_particles/population1_017_-o_-count.csv,/Users/sprigent/Documents/code/tuto/bioimagepy-tutorial/myexperiment/Count_particles/population1_017_-o_-measures.csv]'\n",
      "Warning: Cannot find a file corresponding to the program \n",
      "cmd: /Applications/Fiji.app/Contents/MacOS/ImageJ-macosx --headless --console -macro /Users/sprigent/Documents/code/tuto/toolshed/fiji/wrapping/threshold_particles.ijm '[/Users/sprigent/Documents/code/tuto/bioimagepy-tutorial/myexperiment/SV_Deconv_2D/population1_013_-o.tif,Default dark,/Users/sprigent/Documents/code/tuto/bioimagepy-tutorial/myexperiment/Count_particles/population1_013_-o_-draw.tif,/Users/sprigent/Documents/code/tuto/bioimagepy-tutorial/myexperiment/Count_particles/population1_013_-o_-count.csv,/Users/sprigent/Documents/code/tuto/bioimagepy-tutorial/myexperiment/Count_particles/population1_013_-o_-measures.csv]'\n",
      "Warning: Cannot find a file corresponding to the program \n",
      "cmd: /Applications/Fiji.app/Contents/MacOS/ImageJ-macosx --headless --console -macro /Users/sprigent/Documents/code/tuto/toolshed/fiji/wrapping/threshold_particles.ijm '[/Users/sprigent/Documents/code/tuto/bioimagepy-tutorial/myexperiment/SV_Deconv_2D/population1_007_-o.tif,Default dark,/Users/sprigent/Documents/code/tuto/bioimagepy-tutorial/myexperiment/Count_particles/population1_007_-o_-draw.tif,/Users/sprigent/Documents/code/tuto/bioimagepy-tutorial/myexperiment/Count_particles/population1_007_-o_-count.csv,/Users/sprigent/Documents/code/tuto/bioimagepy-tutorial/myexperiment/Count_particles/population1_007_-o_-measures.csv]'\n",
      "Warning: Cannot find a file corresponding to the program \n",
      "cmd: /Applications/Fiji.app/Contents/MacOS/ImageJ-macosx --headless --console -macro /Users/sprigent/Documents/code/tuto/toolshed/fiji/wrapping/threshold_particles.ijm '[/Users/sprigent/Documents/code/tuto/bioimagepy-tutorial/myexperiment/SV_Deconv_2D/population1_006_-o.tif,Default dark,/Users/sprigent/Documents/code/tuto/bioimagepy-tutorial/myexperiment/Count_particles/population1_006_-o_-draw.tif,/Users/sprigent/Documents/code/tuto/bioimagepy-tutorial/myexperiment/Count_particles/population1_006_-o_-count.csv,/Users/sprigent/Documents/code/tuto/bioimagepy-tutorial/myexperiment/Count_particles/population1_006_-o_-measures.csv]'\n",
      "Warning: Cannot find a file corresponding to the program \n",
      "cmd: /Applications/Fiji.app/Contents/MacOS/ImageJ-macosx --headless --console -macro /Users/sprigent/Documents/code/tuto/toolshed/fiji/wrapping/threshold_particles.ijm '[/Users/sprigent/Documents/code/tuto/bioimagepy-tutorial/myexperiment/SV_Deconv_2D/population1_012_-o.tif,Default dark,/Users/sprigent/Documents/code/tuto/bioimagepy-tutorial/myexperiment/Count_particles/population1_012_-o_-draw.tif,/Users/sprigent/Documents/code/tuto/bioimagepy-tutorial/myexperiment/Count_particles/population1_012_-o_-count.csv,/Users/sprigent/Documents/code/tuto/bioimagepy-tutorial/myexperiment/Count_particles/population1_012_-o_-measures.csv]'\n",
      "Warning: Cannot find a file corresponding to the program \n",
      "cmd: /Applications/Fiji.app/Contents/MacOS/ImageJ-macosx --headless --console -macro /Users/sprigent/Documents/code/tuto/toolshed/fiji/wrapping/threshold_particles.ijm '[/Users/sprigent/Documents/code/tuto/bioimagepy-tutorial/myexperiment/SV_Deconv_2D/population1_004_-o.tif,Default dark,/Users/sprigent/Documents/code/tuto/bioimagepy-tutorial/myexperiment/Count_particles/population1_004_-o_-draw.tif,/Users/sprigent/Documents/code/tuto/bioimagepy-tutorial/myexperiment/Count_particles/population1_004_-o_-count.csv,/Users/sprigent/Documents/code/tuto/bioimagepy-tutorial/myexperiment/Count_particles/population1_004_-o_-measures.csv]'\n"
     ]
    },
    {
     "name": "stdout",
     "output_type": "stream",
     "text": [
      "Warning: Cannot find a file corresponding to the program \n",
      "cmd: /Applications/Fiji.app/Contents/MacOS/ImageJ-macosx --headless --console -macro /Users/sprigent/Documents/code/tuto/toolshed/fiji/wrapping/threshold_particles.ijm '[/Users/sprigent/Documents/code/tuto/bioimagepy-tutorial/myexperiment/SV_Deconv_2D/population1_010_-o.tif,Default dark,/Users/sprigent/Documents/code/tuto/bioimagepy-tutorial/myexperiment/Count_particles/population1_010_-o_-draw.tif,/Users/sprigent/Documents/code/tuto/bioimagepy-tutorial/myexperiment/Count_particles/population1_010_-o_-count.csv,/Users/sprigent/Documents/code/tuto/bioimagepy-tutorial/myexperiment/Count_particles/population1_010_-o_-measures.csv]'\n",
      "Warning: Cannot find a file corresponding to the program \n",
      "cmd: /Applications/Fiji.app/Contents/MacOS/ImageJ-macosx --headless --console -macro /Users/sprigent/Documents/code/tuto/toolshed/fiji/wrapping/threshold_particles.ijm '[/Users/sprigent/Documents/code/tuto/bioimagepy-tutorial/myexperiment/SV_Deconv_2D/population1_011_-o.tif,Default dark,/Users/sprigent/Documents/code/tuto/bioimagepy-tutorial/myexperiment/Count_particles/population1_011_-o_-draw.tif,/Users/sprigent/Documents/code/tuto/bioimagepy-tutorial/myexperiment/Count_particles/population1_011_-o_-count.csv,/Users/sprigent/Documents/code/tuto/bioimagepy-tutorial/myexperiment/Count_particles/population1_011_-o_-measures.csv]'\n",
      "Warning: Cannot find a file corresponding to the program \n",
      "cmd: /Applications/Fiji.app/Contents/MacOS/ImageJ-macosx --headless --console -macro /Users/sprigent/Documents/code/tuto/toolshed/fiji/wrapping/threshold_particles.ijm '[/Users/sprigent/Documents/code/tuto/bioimagepy-tutorial/myexperiment/SV_Deconv_2D/population1_005_-o.tif,Default dark,/Users/sprigent/Documents/code/tuto/bioimagepy-tutorial/myexperiment/Count_particles/population1_005_-o_-draw.tif,/Users/sprigent/Documents/code/tuto/bioimagepy-tutorial/myexperiment/Count_particles/population1_005_-o_-count.csv,/Users/sprigent/Documents/code/tuto/bioimagepy-tutorial/myexperiment/Count_particles/population1_005_-o_-measures.csv]'\n",
      "Warning: Cannot find a file corresponding to the program \n",
      "cmd: /Applications/Fiji.app/Contents/MacOS/ImageJ-macosx --headless --console -macro /Users/sprigent/Documents/code/tuto/toolshed/fiji/wrapping/threshold_particles.ijm '[/Users/sprigent/Documents/code/tuto/bioimagepy-tutorial/myexperiment/SV_Deconv_2D/population2_016_-o.tif,Default dark,/Users/sprigent/Documents/code/tuto/bioimagepy-tutorial/myexperiment/Count_particles/population2_016_-o_-draw.tif,/Users/sprigent/Documents/code/tuto/bioimagepy-tutorial/myexperiment/Count_particles/population2_016_-o_-count.csv,/Users/sprigent/Documents/code/tuto/bioimagepy-tutorial/myexperiment/Count_particles/population2_016_-o_-measures.csv]'\n",
      "Warning: Cannot find a file corresponding to the program \n",
      "cmd: /Applications/Fiji.app/Contents/MacOS/ImageJ-macosx --headless --console -macro /Users/sprigent/Documents/code/tuto/toolshed/fiji/wrapping/threshold_particles.ijm '[/Users/sprigent/Documents/code/tuto/bioimagepy-tutorial/myexperiment/SV_Deconv_2D/population2_002_-o.tif,Default dark,/Users/sprigent/Documents/code/tuto/bioimagepy-tutorial/myexperiment/Count_particles/population2_002_-o_-draw.tif,/Users/sprigent/Documents/code/tuto/bioimagepy-tutorial/myexperiment/Count_particles/population2_002_-o_-count.csv,/Users/sprigent/Documents/code/tuto/bioimagepy-tutorial/myexperiment/Count_particles/population2_002_-o_-measures.csv]'\n",
      "Warning: Cannot find a file corresponding to the program \n",
      "cmd: /Applications/Fiji.app/Contents/MacOS/ImageJ-macosx --headless --console -macro /Users/sprigent/Documents/code/tuto/toolshed/fiji/wrapping/threshold_particles.ijm '[/Users/sprigent/Documents/code/tuto/bioimagepy-tutorial/myexperiment/SV_Deconv_2D/population2_003_-o.tif,Default dark,/Users/sprigent/Documents/code/tuto/bioimagepy-tutorial/myexperiment/Count_particles/population2_003_-o_-draw.tif,/Users/sprigent/Documents/code/tuto/bioimagepy-tutorial/myexperiment/Count_particles/population2_003_-o_-count.csv,/Users/sprigent/Documents/code/tuto/bioimagepy-tutorial/myexperiment/Count_particles/population2_003_-o_-measures.csv]'\n",
      "Warning: Cannot find a file corresponding to the program \n",
      "cmd: /Applications/Fiji.app/Contents/MacOS/ImageJ-macosx --headless --console -macro /Users/sprigent/Documents/code/tuto/toolshed/fiji/wrapping/threshold_particles.ijm '[/Users/sprigent/Documents/code/tuto/bioimagepy-tutorial/myexperiment/SV_Deconv_2D/population2_017_-o.tif,Default dark,/Users/sprigent/Documents/code/tuto/bioimagepy-tutorial/myexperiment/Count_particles/population2_017_-o_-draw.tif,/Users/sprigent/Documents/code/tuto/bioimagepy-tutorial/myexperiment/Count_particles/population2_017_-o_-count.csv,/Users/sprigent/Documents/code/tuto/bioimagepy-tutorial/myexperiment/Count_particles/population2_017_-o_-measures.csv]'\n",
      "Warning: Cannot find a file corresponding to the program \n",
      "cmd: /Applications/Fiji.app/Contents/MacOS/ImageJ-macosx --headless --console -macro /Users/sprigent/Documents/code/tuto/toolshed/fiji/wrapping/threshold_particles.ijm '[/Users/sprigent/Documents/code/tuto/bioimagepy-tutorial/myexperiment/SV_Deconv_2D/population2_001_-o.tif,Default dark,/Users/sprigent/Documents/code/tuto/bioimagepy-tutorial/myexperiment/Count_particles/population2_001_-o_-draw.tif,/Users/sprigent/Documents/code/tuto/bioimagepy-tutorial/myexperiment/Count_particles/population2_001_-o_-count.csv,/Users/sprigent/Documents/code/tuto/bioimagepy-tutorial/myexperiment/Count_particles/population2_001_-o_-measures.csv]'\n",
      "Warning: Cannot find a file corresponding to the program \n",
      "cmd: /Applications/Fiji.app/Contents/MacOS/ImageJ-macosx --headless --console -macro /Users/sprigent/Documents/code/tuto/toolshed/fiji/wrapping/threshold_particles.ijm '[/Users/sprigent/Documents/code/tuto/bioimagepy-tutorial/myexperiment/SV_Deconv_2D/population2_015_-o.tif,Default dark,/Users/sprigent/Documents/code/tuto/bioimagepy-tutorial/myexperiment/Count_particles/population2_015_-o_-draw.tif,/Users/sprigent/Documents/code/tuto/bioimagepy-tutorial/myexperiment/Count_particles/population2_015_-o_-count.csv,/Users/sprigent/Documents/code/tuto/bioimagepy-tutorial/myexperiment/Count_particles/population2_015_-o_-measures.csv]'\n",
      "Warning: Cannot find a file corresponding to the program \n",
      "cmd: /Applications/Fiji.app/Contents/MacOS/ImageJ-macosx --headless --console -macro /Users/sprigent/Documents/code/tuto/toolshed/fiji/wrapping/threshold_particles.ijm '[/Users/sprigent/Documents/code/tuto/bioimagepy-tutorial/myexperiment/SV_Deconv_2D/population2_014_-o.tif,Default dark,/Users/sprigent/Documents/code/tuto/bioimagepy-tutorial/myexperiment/Count_particles/population2_014_-o_-draw.tif,/Users/sprigent/Documents/code/tuto/bioimagepy-tutorial/myexperiment/Count_particles/population2_014_-o_-count.csv,/Users/sprigent/Documents/code/tuto/bioimagepy-tutorial/myexperiment/Count_particles/population2_014_-o_-measures.csv]'\n",
      "Warning: Cannot find a file corresponding to the program \n",
      "cmd: /Applications/Fiji.app/Contents/MacOS/ImageJ-macosx --headless --console -macro /Users/sprigent/Documents/code/tuto/toolshed/fiji/wrapping/threshold_particles.ijm '[/Users/sprigent/Documents/code/tuto/bioimagepy-tutorial/myexperiment/SV_Deconv_2D/population2_004_-o.tif,Default dark,/Users/sprigent/Documents/code/tuto/bioimagepy-tutorial/myexperiment/Count_particles/population2_004_-o_-draw.tif,/Users/sprigent/Documents/code/tuto/bioimagepy-tutorial/myexperiment/Count_particles/population2_004_-o_-count.csv,/Users/sprigent/Documents/code/tuto/bioimagepy-tutorial/myexperiment/Count_particles/population2_004_-o_-measures.csv]'\n",
      "Warning: Cannot find a file corresponding to the program \n",
      "cmd: /Applications/Fiji.app/Contents/MacOS/ImageJ-macosx --headless --console -macro /Users/sprigent/Documents/code/tuto/toolshed/fiji/wrapping/threshold_particles.ijm '[/Users/sprigent/Documents/code/tuto/bioimagepy-tutorial/myexperiment/SV_Deconv_2D/population2_010_-o.tif,Default dark,/Users/sprigent/Documents/code/tuto/bioimagepy-tutorial/myexperiment/Count_particles/population2_010_-o_-draw.tif,/Users/sprigent/Documents/code/tuto/bioimagepy-tutorial/myexperiment/Count_particles/population2_010_-o_-count.csv,/Users/sprigent/Documents/code/tuto/bioimagepy-tutorial/myexperiment/Count_particles/population2_010_-o_-measures.csv]'\n"
     ]
    },
    {
     "name": "stdout",
     "output_type": "stream",
     "text": [
      "Warning: Cannot find a file corresponding to the program \n",
      "cmd: /Applications/Fiji.app/Contents/MacOS/ImageJ-macosx --headless --console -macro /Users/sprigent/Documents/code/tuto/toolshed/fiji/wrapping/threshold_particles.ijm '[/Users/sprigent/Documents/code/tuto/bioimagepy-tutorial/myexperiment/SV_Deconv_2D/population2_011_-o.tif,Default dark,/Users/sprigent/Documents/code/tuto/bioimagepy-tutorial/myexperiment/Count_particles/population2_011_-o_-draw.tif,/Users/sprigent/Documents/code/tuto/bioimagepy-tutorial/myexperiment/Count_particles/population2_011_-o_-count.csv,/Users/sprigent/Documents/code/tuto/bioimagepy-tutorial/myexperiment/Count_particles/population2_011_-o_-measures.csv]'\n",
      "Warning: Cannot find a file corresponding to the program \n",
      "cmd: /Applications/Fiji.app/Contents/MacOS/ImageJ-macosx --headless --console -macro /Users/sprigent/Documents/code/tuto/toolshed/fiji/wrapping/threshold_particles.ijm '[/Users/sprigent/Documents/code/tuto/bioimagepy-tutorial/myexperiment/SV_Deconv_2D/population2_005_-o.tif,Default dark,/Users/sprigent/Documents/code/tuto/bioimagepy-tutorial/myexperiment/Count_particles/population2_005_-o_-draw.tif,/Users/sprigent/Documents/code/tuto/bioimagepy-tutorial/myexperiment/Count_particles/population2_005_-o_-count.csv,/Users/sprigent/Documents/code/tuto/bioimagepy-tutorial/myexperiment/Count_particles/population2_005_-o_-measures.csv]'\n",
      "Warning: Cannot find a file corresponding to the program \n",
      "cmd: /Applications/Fiji.app/Contents/MacOS/ImageJ-macosx --headless --console -macro /Users/sprigent/Documents/code/tuto/toolshed/fiji/wrapping/threshold_particles.ijm '[/Users/sprigent/Documents/code/tuto/bioimagepy-tutorial/myexperiment/SV_Deconv_2D/population2_013_-o.tif,Default dark,/Users/sprigent/Documents/code/tuto/bioimagepy-tutorial/myexperiment/Count_particles/population2_013_-o_-draw.tif,/Users/sprigent/Documents/code/tuto/bioimagepy-tutorial/myexperiment/Count_particles/population2_013_-o_-count.csv,/Users/sprigent/Documents/code/tuto/bioimagepy-tutorial/myexperiment/Count_particles/population2_013_-o_-measures.csv]'\n",
      "Warning: Cannot find a file corresponding to the program \n",
      "cmd: /Applications/Fiji.app/Contents/MacOS/ImageJ-macosx --headless --console -macro /Users/sprigent/Documents/code/tuto/toolshed/fiji/wrapping/threshold_particles.ijm '[/Users/sprigent/Documents/code/tuto/bioimagepy-tutorial/myexperiment/SV_Deconv_2D/population2_007_-o.tif,Default dark,/Users/sprigent/Documents/code/tuto/bioimagepy-tutorial/myexperiment/Count_particles/population2_007_-o_-draw.tif,/Users/sprigent/Documents/code/tuto/bioimagepy-tutorial/myexperiment/Count_particles/population2_007_-o_-count.csv,/Users/sprigent/Documents/code/tuto/bioimagepy-tutorial/myexperiment/Count_particles/population2_007_-o_-measures.csv]'\n",
      "Warning: Cannot find a file corresponding to the program \n",
      "cmd: /Applications/Fiji.app/Contents/MacOS/ImageJ-macosx --headless --console -macro /Users/sprigent/Documents/code/tuto/toolshed/fiji/wrapping/threshold_particles.ijm '[/Users/sprigent/Documents/code/tuto/bioimagepy-tutorial/myexperiment/SV_Deconv_2D/population2_006_-o.tif,Default dark,/Users/sprigent/Documents/code/tuto/bioimagepy-tutorial/myexperiment/Count_particles/population2_006_-o_-draw.tif,/Users/sprigent/Documents/code/tuto/bioimagepy-tutorial/myexperiment/Count_particles/population2_006_-o_-count.csv,/Users/sprigent/Documents/code/tuto/bioimagepy-tutorial/myexperiment/Count_particles/population2_006_-o_-measures.csv]'\n",
      "Warning: Cannot find a file corresponding to the program \n",
      "cmd: /Applications/Fiji.app/Contents/MacOS/ImageJ-macosx --headless --console -macro /Users/sprigent/Documents/code/tuto/toolshed/fiji/wrapping/threshold_particles.ijm '[/Users/sprigent/Documents/code/tuto/bioimagepy-tutorial/myexperiment/SV_Deconv_2D/population2_012_-o.tif,Default dark,/Users/sprigent/Documents/code/tuto/bioimagepy-tutorial/myexperiment/Count_particles/population2_012_-o_-draw.tif,/Users/sprigent/Documents/code/tuto/bioimagepy-tutorial/myexperiment/Count_particles/population2_012_-o_-count.csv,/Users/sprigent/Documents/code/tuto/bioimagepy-tutorial/myexperiment/Count_particles/population2_012_-o_-measures.csv]'\n",
      "Warning: Cannot find a file corresponding to the program \n",
      "cmd: /Applications/Fiji.app/Contents/MacOS/ImageJ-macosx --headless --console -macro /Users/sprigent/Documents/code/tuto/toolshed/fiji/wrapping/threshold_particles.ijm '[/Users/sprigent/Documents/code/tuto/bioimagepy-tutorial/myexperiment/SV_Deconv_2D/population2_020_-o.tif,Default dark,/Users/sprigent/Documents/code/tuto/bioimagepy-tutorial/myexperiment/Count_particles/population2_020_-o_-draw.tif,/Users/sprigent/Documents/code/tuto/bioimagepy-tutorial/myexperiment/Count_particles/population2_020_-o_-count.csv,/Users/sprigent/Documents/code/tuto/bioimagepy-tutorial/myexperiment/Count_particles/population2_020_-o_-measures.csv]'\n",
      "Warning: Cannot find a file corresponding to the program \n",
      "cmd: /Applications/Fiji.app/Contents/MacOS/ImageJ-macosx --headless --console -macro /Users/sprigent/Documents/code/tuto/toolshed/fiji/wrapping/threshold_particles.ijm '[/Users/sprigent/Documents/code/tuto/bioimagepy-tutorial/myexperiment/SV_Deconv_2D/population2_008_-o.tif,Default dark,/Users/sprigent/Documents/code/tuto/bioimagepy-tutorial/myexperiment/Count_particles/population2_008_-o_-draw.tif,/Users/sprigent/Documents/code/tuto/bioimagepy-tutorial/myexperiment/Count_particles/population2_008_-o_-count.csv,/Users/sprigent/Documents/code/tuto/bioimagepy-tutorial/myexperiment/Count_particles/population2_008_-o_-measures.csv]'\n",
      "Warning: Cannot find a file corresponding to the program \n",
      "cmd: /Applications/Fiji.app/Contents/MacOS/ImageJ-macosx --headless --console -macro /Users/sprigent/Documents/code/tuto/toolshed/fiji/wrapping/threshold_particles.ijm '[/Users/sprigent/Documents/code/tuto/bioimagepy-tutorial/myexperiment/SV_Deconv_2D/population2_009_-o.tif,Default dark,/Users/sprigent/Documents/code/tuto/bioimagepy-tutorial/myexperiment/Count_particles/population2_009_-o_-draw.tif,/Users/sprigent/Documents/code/tuto/bioimagepy-tutorial/myexperiment/Count_particles/population2_009_-o_-count.csv,/Users/sprigent/Documents/code/tuto/bioimagepy-tutorial/myexperiment/Count_particles/population2_009_-o_-measures.csv]'\n",
      "Warning: Cannot find a file corresponding to the program \n",
      "cmd: /Applications/Fiji.app/Contents/MacOS/ImageJ-macosx --headless --console -macro /Users/sprigent/Documents/code/tuto/toolshed/fiji/wrapping/threshold_particles.ijm '[/Users/sprigent/Documents/code/tuto/bioimagepy-tutorial/myexperiment/SV_Deconv_2D/population2_019_-o.tif,Default dark,/Users/sprigent/Documents/code/tuto/bioimagepy-tutorial/myexperiment/Count_particles/population2_019_-o_-draw.tif,/Users/sprigent/Documents/code/tuto/bioimagepy-tutorial/myexperiment/Count_particles/population2_019_-o_-count.csv,/Users/sprigent/Documents/code/tuto/bioimagepy-tutorial/myexperiment/Count_particles/population2_019_-o_-measures.csv]'\n",
      "Warning: Cannot find a file corresponding to the program \n",
      "cmd: /Applications/Fiji.app/Contents/MacOS/ImageJ-macosx --headless --console -macro /Users/sprigent/Documents/code/tuto/toolshed/fiji/wrapping/threshold_particles.ijm '[/Users/sprigent/Documents/code/tuto/bioimagepy-tutorial/myexperiment/SV_Deconv_2D/population2_018_-o.tif,Default dark,/Users/sprigent/Documents/code/tuto/bioimagepy-tutorial/myexperiment/Count_particles/population2_018_-o_-draw.tif,/Users/sprigent/Documents/code/tuto/bioimagepy-tutorial/myexperiment/Count_particles/population2_018_-o_-count.csv,/Users/sprigent/Documents/code/tuto/bioimagepy-tutorial/myexperiment/Count_particles/population2_018_-o_-measures.csv]'\n",
      "Warning: Cannot find a file corresponding to the program \n",
      "cmd: /Applications/Fiji.app/Contents/MacOS/ImageJ-macosx --headless --console -macro /Users/sprigent/Documents/code/tuto/toolshed/fiji/wrapping/threshold_particles.ijm '[/Users/sprigent/Documents/code/tuto/bioimagepy-tutorial/myexperiment/SV_Deconv_2D/population1_020_-o.tif,Default dark,/Users/sprigent/Documents/code/tuto/bioimagepy-tutorial/myexperiment/Count_particles/population1_020_-o_-draw.tif,/Users/sprigent/Documents/code/tuto/bioimagepy-tutorial/myexperiment/Count_particles/population1_020_-o_-count.csv,/Users/sprigent/Documents/code/tuto/bioimagepy-tutorial/myexperiment/Count_particles/population1_020_-o_-measures.csv]'\n"
     ]
    },
    {
     "name": "stdout",
     "output_type": "stream",
     "text": [
      "Warning: Cannot find a file corresponding to the program \n",
      "cmd: /Applications/Fiji.app/Contents/MacOS/ImageJ-macosx --headless --console -macro /Users/sprigent/Documents/code/tuto/toolshed/fiji/wrapping/threshold_particles.ijm '[/Users/sprigent/Documents/code/tuto/bioimagepy-tutorial/myexperiment/SV_Deconv_2D/population1_008_-o.tif,Default dark,/Users/sprigent/Documents/code/tuto/bioimagepy-tutorial/myexperiment/Count_particles/population1_008_-o_-draw.tif,/Users/sprigent/Documents/code/tuto/bioimagepy-tutorial/myexperiment/Count_particles/population1_008_-o_-count.csv,/Users/sprigent/Documents/code/tuto/bioimagepy-tutorial/myexperiment/Count_particles/population1_008_-o_-measures.csv]'\n",
      "Warning: Cannot find a file corresponding to the program \n",
      "cmd: /Applications/Fiji.app/Contents/MacOS/ImageJ-macosx --headless --console -macro /Users/sprigent/Documents/code/tuto/toolshed/fiji/wrapping/threshold_particles.ijm '[/Users/sprigent/Documents/code/tuto/bioimagepy-tutorial/myexperiment/SV_Deconv_2D/population1_009_-o.tif,Default dark,/Users/sprigent/Documents/code/tuto/bioimagepy-tutorial/myexperiment/Count_particles/population1_009_-o_-draw.tif,/Users/sprigent/Documents/code/tuto/bioimagepy-tutorial/myexperiment/Count_particles/population1_009_-o_-count.csv,/Users/sprigent/Documents/code/tuto/bioimagepy-tutorial/myexperiment/Count_particles/population1_009_-o_-measures.csv]'\n",
      "Warning: Cannot find a file corresponding to the program \n",
      "cmd: /Applications/Fiji.app/Contents/MacOS/ImageJ-macosx --headless --console -macro /Users/sprigent/Documents/code/tuto/toolshed/fiji/wrapping/threshold_particles.ijm '[/Users/sprigent/Documents/code/tuto/bioimagepy-tutorial/myexperiment/SV_Deconv_2D/population1_019_-o.tif,Default dark,/Users/sprigent/Documents/code/tuto/bioimagepy-tutorial/myexperiment/Count_particles/population1_019_-o_-draw.tif,/Users/sprigent/Documents/code/tuto/bioimagepy-tutorial/myexperiment/Count_particles/population1_019_-o_-count.csv,/Users/sprigent/Documents/code/tuto/bioimagepy-tutorial/myexperiment/Count_particles/population1_019_-o_-measures.csv]'\n",
      "Warning: Cannot find a file corresponding to the program \n",
      "cmd: /Applications/Fiji.app/Contents/MacOS/ImageJ-macosx --headless --console -macro /Users/sprigent/Documents/code/tuto/toolshed/fiji/wrapping/threshold_particles.ijm '[/Users/sprigent/Documents/code/tuto/bioimagepy-tutorial/myexperiment/SV_Deconv_2D/population1_018_-o.tif,Default dark,/Users/sprigent/Documents/code/tuto/bioimagepy-tutorial/myexperiment/Count_particles/population1_018_-o_-draw.tif,/Users/sprigent/Documents/code/tuto/bioimagepy-tutorial/myexperiment/Count_particles/population1_018_-o_-count.csv,/Users/sprigent/Documents/code/tuto/bioimagepy-tutorial/myexperiment/Count_particles/population1_018_-o_-measures.csv]'\n"
     ]
    }
   ],
   "source": [
    "runner = runnerpy.BiRunnerExperiment(myexperiment) \n",
    "runner.set_config(BiConfig(\"../toolshed/config.json\"))\n",
    "runner.set_process('../toolshed/fiji/wrapping/threshold_particles.xml', '-threshold', 'Default dark') \n",
    "runner.add_input('-input', 'SV_Deconv_2D', '')\n",
    "runner.run()"
   ]
  },
  {
   "cell_type": "markdown",
   "metadata": {},
   "source": [
    "### Step 3: Statistical test\n",
    "\n",
    "In the previous step, the segmentation algorithm calulated the number of spots for each images. Then, we now need to perform a statistical test to measure if the spot number is statistically different for the two populations.\n",
    "\n",
    "We will use the Wilcoxon test available in **BioImagePy** using the `wilcoxon.xml` wrapper. \n"
   ]
  },
  {
   "cell_type": "code",
   "execution_count": null,
   "metadata": {},
   "outputs": [],
   "source": [
    "runner = runnerpy.BiRunnerExperiment(myexperiment)   \n",
    "runner.set_config(BiConfig(\"../toolshed/config.json\"))\n",
    "runner.set_process('../toolshed/python/wrapping/wilcoxon.xml') \n",
    "runner.add_input('-x', 'Count_particles', 'Population=population1', '-count')\n",
    "runner.add_input('-y', 'Count_particles', 'Population=population2', '-count')\n",
    "runner.run() "
   ]
  },
  {
   "cell_type": "markdown",
   "metadata": {},
   "source": [
    "With the code above, the Wilcoxon test has been performed between *population1* and *population2* using the result `-count` of the process `Count_partices`. \n",
    "\n",
    "Because the `wilcoxon.xml` process works on merged data, we do not need to 'manualy' merge the coint results in array files since **BioImagePy** do it for us.\n",
    "\n",
    "Now we can read the results of the Wicoxon test:"
   ]
  },
  {
   "cell_type": "code",
   "execution_count": null,
   "metadata": {},
   "outputs": [],
   "source": [
    "wilcoxon_pvalue_file = myexperiment.processeddataset_by_name('Wilcoxon').processed_data_by_name('-p').url()\n",
    "\n",
    "with open(wilcoxon_pvalue_file, 'r') as content_file:\n",
    "    p = content_file.read()\n",
    "    \n",
    "print('p-value=', p)    "
   ]
  }
 ],
 "metadata": {
  "kernelspec": {
   "display_name": "Python 3",
   "language": "python",
   "name": "python3"
  },
  "language_info": {
   "codemirror_mode": {
    "name": "ipython",
    "version": 3
   },
   "file_extension": ".py",
   "mimetype": "text/x-python",
   "name": "python",
   "nbconvert_exporter": "python",
   "pygments_lexer": "ipython3",
   "version": "3.7.3"
  }
 },
 "nbformat": 4,
 "nbformat_minor": 2
}
