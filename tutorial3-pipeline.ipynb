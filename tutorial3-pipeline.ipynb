{
 "cells": [
  {
   "cell_type": "markdown",
   "metadata": {},
   "source": [
    "# BioImagePy: experiment data processing\n",
    "\n",
    "In this tutorial, we are going to write a pipeline for batch processing data stored in an `experiment`. **BioImagePy** comes with a class called `Pipeline`. This class run on an `experiment`. We add a sequence of precesses on the pipeline class and run the processes on data selected by simple queries."
   ]
  },
  {
   "cell_type": "markdown",
   "metadata": {},
   "source": [
    "## The experiment\n",
    "\n",
    "In this tutorial, we will use the same experiment than the one created in the *tutorial1-experiment*. The experiment goal is explained in the *tutorial1*. As a reminder, we have two populations of images contained spots in noisy images. In this tutorial, we are going to segment and count the spots, and then run a statistical test to conclude if the two population have significantly different number of spots. "
   ]
  },
  {
   "cell_type": "code",
   "execution_count": null,
   "metadata": {},
   "outputs": [],
   "source": [
    "# BioImagePy import and initialisation\n",
    "import sys\n",
    "sys.path.append(\"../bioimagepy\") # change this path to the path where you install bioimagepy\n",
    "\n",
    "from bioimagepy.config import ConfigAccess\n",
    "from bioimagepy.process import ProcessAccess\n",
    "ConfigAccess('../bioimagepy/config_sample.json') "
   ]
  },
  {
   "cell_type": "code",
   "execution_count": null,
   "metadata": {
    "scrolled": true
   },
   "outputs": [],
   "source": [
    "# in this cell we create the experiment, import and anotate data\n",
    "from bioimagepy.experiment import Experiment\n",
    "\n",
    "# create the experiment\n",
    "my_experiment = Experiment()\n",
    "my_experiment.create(name=\"myexperiment\", \n",
    "                     author=\"Sylvain Prigent\", \n",
    "                     uri=\"../userdata/\") \n",
    "\n",
    "# import the data\n",
    "my_experiment.import_dir(dir_uri='./synthetic_data/data/',\n",
    "                         filter=\"\\.tif$\",\n",
    "                         author='Sylvain Prigent', \n",
    "                         format='tif', \n",
    "                         date='2019-03-17', \n",
    "                         copy_data=True)\n",
    "\n",
    "# tag population\n",
    "my_experiment.tag_from_name(\"Population\", ['population1', 'population2'] )\n",
    "# tag ID\n",
    "my_experiment.tag_using_seperator(tag=\"ID\", separator=\"_\", value_position=1) \n",
    "\n",
    "my_experiment.display()"
   ]
  },
  {
   "cell_type": "markdown",
   "metadata": {},
   "source": [
    "## The Pipeline class\n",
    "\n",
    "The **BioImagePy** pipeline module contains the main class `Pipeline`. It's the only class we are going to use to process the data. Let's look the module documentation: "
   ]
  },
  {
   "cell_type": "code",
   "execution_count": null,
   "metadata": {},
   "outputs": [],
   "source": [
    "import bioimagepy.pipeline as pipelinepy\n",
    "\n",
    "help(pipelinepy)"
   ]
  },
  {
   "cell_type": "markdown",
   "metadata": {},
   "source": [
    "### Initialize the pipeline \n"
   ]
  },
  {
   "cell_type": "code",
   "execution_count": null,
   "metadata": {},
   "outputs": [],
   "source": [
    "from bioimagepy.pipeline import Pipeline\n",
    "pipeline = Pipeline(my_experiment)\n"
   ]
  },
  {
   "cell_type": "markdown",
   "metadata": {},
   "source": [
    "## Processing\n",
    "\n",
    "In the following of this tutorial, we are going to process the data in 3 steps.\n",
    "1. Image deconvolution on each image to ease the spot segmentation\n",
    "2. Auto thresholding and particle analysis on the deconvolutes images\n",
    "3. Statistical testing with the wilcoxon test to conclude if the two population have significantly different number of spots\n",
    "\n",
    "The 3 proposed steps are just one possible way to analyse the data, to illustrate the use of BioImagePy. Many other processing workflow are possible to analyse this dataset, but it is not the purpose of this tutorial."
   ]
  },
  {
   "cell_type": "markdown",
   "metadata": {},
   "source": [
    "### Step 1: image deconvolution\n",
    "\n",
    "To make the spot segmentation easier to identify, we chose to preprocess the data with a deconvolution algorithm. The selected algorithm is the SVDeconv2D implemented in c++. It is available in **BioImagePy** with the ID `svdeconv2d_v0.1.0`. \n",
    "\n",
    "We thus add a process with the name `svdeconv2d_v0.1.0`. To setup the process we need 3 methods:\n",
    "1. `set_parameters` to set the all the process parameters as pairs name, value list\n",
    "2. `set_dataset_name` to set the name of the dataset where the outputs will be stored. This method is not mandatory. If you do not use it, the process name will be used as a default dataset name\n",
    "3. `add_input` for each input of the process. Here we have only one input 'i' the input image, and we set it to the dataset `data` with an empty filter in order to process all the data in the raw dataset called `data`\n",
    "\n",
    "Finally we call the `run` method to run the process"
   ]
  },
  {
   "cell_type": "code",
   "execution_count": null,
   "metadata": {},
   "outputs": [],
   "source": [
    "# visualize the inputs and parameters of the svdeconv2d process\n",
    "svdeconv2d = ProcessAccess().get('svdeconv2d_v0.1.0')\n",
    "svdeconv2d.man()"
   ]
  },
  {
   "cell_type": "code",
   "execution_count": null,
   "metadata": {
    "scrolled": true
   },
   "outputs": [],
   "source": [
    "# run the process\n",
    "process1 = pipeline.add_process(svdeconv2d)\n",
    "process1.set_parameters('sigma', 2, 'regularization', 2, 'weighting', 0.1, 'method', 'SV')\n",
    "process1.set_dataset_name('deconv')\n",
    "process1.add_input('i', 'data')\n",
    "process1.run()"
   ]
  },
  {
   "cell_type": "markdown",
   "metadata": {},
   "source": [
    "Let visualize the obtained results:"
   ]
  },
  {
   "cell_type": "code",
   "execution_count": null,
   "metadata": {},
   "outputs": [],
   "source": [
    "from bioimagepy.data import ProcessedData\n",
    "import matplotlib.pyplot as plt\n",
    "import matplotlib.image as mpimg\n",
    "\n",
    "# get one processeddata and it origin raw data\n",
    "processed_data = ProcessedData(my_experiment.get_data('deconv', 'Population=population1 AND ID=001')[0])\n",
    "origin_data = processed_data.get_origin()\n",
    "\n",
    "# plot the origin data\n",
    "img=mpimg.imread(origin_data.metadata.uri)\n",
    "imgplot = plt.imshow(img)\n",
    "plt.show()\n",
    "\n",
    "# plot the processed data\n",
    "img=mpimg.imread(processed_data.metadata.uri)\n",
    "imgplot = plt.imshow(img)\n",
    "plt.show()"
   ]
  },
  {
   "cell_type": "markdown",
   "metadata": {},
   "source": [
    "### Step 2: Image segmentation\n",
    "\n",
    "In this step, we apply an automatique threshold and a particle analysis in each images in order to obtain the number of spots in each images.\n",
    "\n",
    "The selected algorithm is a Fiji macro that runs an auto-threshold and the analyse particles tool. It is available in **BioImagePy** with the ID `threshold_particles_v1.0.0`. \n",
    "\n",
    "We can then run it the same way that the previous process:"
   ]
  },
  {
   "cell_type": "code",
   "execution_count": null,
   "metadata": {},
   "outputs": [],
   "source": [
    "# visualize the inputs and parameters of the svdeconv2d process\n",
    "threshold_particles = ProcessAccess().get('threshold_particles_v1.0.0')\n",
    "threshold_particles.man()"
   ]
  },
  {
   "cell_type": "code",
   "execution_count": null,
   "metadata": {},
   "outputs": [],
   "source": [
    "# run the process\n",
    "process2 = pipeline.add_process(threshold_particles)\n",
    "process2.set_parameters('threshold', 'Default')\n",
    "process2.set_dataset_name('particles')\n",
    "process2.add_input('input', 'deconv')\n",
    "process2.run()"
   ]
  },
  {
   "cell_type": "markdown",
   "metadata": {},
   "source": [
    "### Step 3: Statistical test\n",
    "\n",
    "In the previous step, the segmentation algorithm calulated the number of spots for each images. Then, we now need to perform a statistical test to measure if the spot number is statistically different for the two populations.\n",
    "\n",
    "We will use the Wilcoxon test available in **BioImagePy** using the `wilcoxon.xml` wrapper. \n"
   ]
  },
  {
   "cell_type": "code",
   "execution_count": null,
   "metadata": {},
   "outputs": [],
   "source": [
    "process3 = pipeline.add_process(ProcessAccess().get('Wilcoxon_v1.0.0'))\n",
    "process3.set_dataset_name('wilcoxon')\n",
    "process3.add_input('x', 'particles', 'Population=population1', 'count')\n",
    "process3.add_input('y', 'particles', 'Population=population2', 'count')\n",
    "process3.run()"
   ]
  },
  {
   "cell_type": "markdown",
   "metadata": {},
   "source": [
    "With the code above, the Wilcoxon test has been performed between *population1* and *population2* using the result `count` of the process `Count_partices`. \n",
    "\n",
    "Because the `Wilcoxon_v1.0.0` process works on merged data, we do not need to 'manualy' merge the results in an array files since **BioImagePy** do it for us.\n",
    "\n",
    "Now we can read the results of the Wicoxon test:"
   ]
  },
  {
   "cell_type": "code",
   "execution_count": null,
   "metadata": {
    "scrolled": false
   },
   "outputs": [],
   "source": [
    "wilcoxon_pvalue_file = ProcessedData(my_experiment.get_data('wilcoxon', 'name=p')[0]).metadata.uri\n",
    "\n",
    "with open(wilcoxon_pvalue_file, 'r') as content_file:\n",
    "    p = content_file.read()    \n",
    "print('p-value=', p)    "
   ]
  }
 ],
 "metadata": {
  "kernelspec": {
   "display_name": "Python 3",
   "language": "python",
   "name": "python3"
  },
  "language_info": {
   "codemirror_mode": {
    "name": "ipython",
    "version": 3
   },
   "file_extension": ".py",
   "mimetype": "text/x-python",
   "name": "python",
   "nbconvert_exporter": "python",
   "pygments_lexer": "ipython3",
   "version": "3.7.3"
  }
 },
 "nbformat": 4,
 "nbformat_minor": 2
}
