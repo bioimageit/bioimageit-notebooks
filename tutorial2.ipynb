{
 "cells": [
  {
   "cell_type": "markdown",
   "metadata": {},
   "source": [
    "# BioImagePy: process execution\n",
    "\n",
    "This tutorial descibe the use of the **BiProcess** class to run process. A process runable with the **BiProcess** class is a command line tool descibed by a *XML* file. The structure and content of a process *XML* file is not detailled in this tutorial. Please refer to the **BioImageIT** project documentation or to the **Galaxy Project** wrapper documentation to know more about *XML* process file or wrappers.\n",
    "\n",
    "In this tutorial, we assume that we have the process `svdenoise2d` available. What we call a process here is a executable program and it associated *XML* wrapper.\n"
   ]
  },
  {
   "cell_type": "markdown",
   "metadata": {},
   "source": [
    "## Setup the process"
   ]
  },
  {
   "cell_type": "code",
   "execution_count": null,
   "metadata": {},
   "outputs": [],
   "source": [
    "# this is an optional command to install BioImagePy from conda if you do not have yet installed BioIMagePy\n",
    "import sys\n",
    "!conda install --yes --prefix {sys.prefix} /anaconda3/conda-bld/osx-64/bioimagepy-0.1.0-py36_0.tar.bz2\n"
   ]
  },
  {
   "cell_type": "code",
   "execution_count": 1,
   "metadata": {},
   "outputs": [
    {
     "name": "stdout",
     "output_type": "stream",
     "text": [
      "SV Denoise 2D : \n",
      "2D image denoising using sparse variation model\n",
      "\n",
      "\t             -i\t               \t    Input image\n",
      "\t-regularization\t              4\tRegularization parameter pow(2,-x)\n",
      "\t     -weighting\t            0.5\tSparsity parameter: 0=sparse, 1=total variation\n",
      "\t             -o\t               \t   Output image\n"
     ]
    }
   ],
   "source": [
    "from bioimagepy.process.process import BiProcess\n",
    "\n",
    "# create an instance of BiProcess with an xml file\n",
    "# TODO: change the xml file path with your local path\n",
    "myprocess = BiProcess('/Users/sprigent/Documents/code/serpico/svdeconv/build/bin/svdenoise2d.xml')\n",
    "myprocess.man()"
   ]
  },
  {
   "cell_type": "markdown",
   "metadata": {},
   "source": [
    "The `man()` method prints a man page that describe the process. Thus we need to execute the `svdenoise` process with four parameters. With **BioImagePy** we can execute a process by two ways:\n",
    "1. Execute on files\n",
    "2. Execute on python data\n",
    "\n",
    "In the following of this tutorial we descibe the two methods"
   ]
  },
  {
   "cell_type": "markdown",
   "metadata": {},
   "source": [
    "## Execute on files with exec()\n",
    "\n",
    "To execute the process we simply run the method exec with the parameters descibed in the `man()` method of the process:"
   ]
  },
  {
   "cell_type": "code",
   "execution_count": null,
   "metadata": {},
   "outputs": [],
   "source": [
    "import imageio\n",
    "\n",
    "myprocess.exec('-i', 'synthetic_data/data/population1_001.tif', \n",
    "               '-o', 'population1_001_denoised.tif', \n",
    "               '-regularization', 2, \n",
    "               '-weighting', 0.1) \n",
    "\n",
    "myoutput = imageio.imread('population1_001_denoised.tif')"
   ]
  },
  {
   "cell_type": "markdown",
   "metadata": {},
   "source": [
    "Lets visualize the output:"
   ]
  },
  {
   "cell_type": "code",
   "execution_count": null,
   "metadata": {},
   "outputs": [],
   "source": [
    "import matplotlib.pyplot as plt\n",
    "\n",
    "plt.figure(1)                      \n",
    "plt.imshow(imageio.imread('synthetic_data/data/population1_001.tif'))\n",
    "plt.figure(2)\n",
    "plt.imshow(myoutput)\n",
    "plt.show()"
   ]
  },
  {
   "cell_type": "markdown",
   "metadata": {},
   "source": [
    "This `exec()` method is usefull when we need to run a process on a list of data stored in a file system. Because, in this case, the data are not loaded into python variable but sent directly to the external process. "
   ]
  },
  {
   "cell_type": "markdown",
   "metadata": {},
   "source": [
    "## Execute on python data with run()\n",
    "\n",
    "The `run()` method allows to run the process direcly on python data. It usage is similar to `exec()` except that the ouptut data are returned."
   ]
  },
  {
   "cell_type": "code",
   "execution_count": null,
   "metadata": {},
   "outputs": [],
   "source": [
    "import matplotlib.pyplot as plt\n",
    "\n",
    "# load an image\n",
    "input_image = imageio.imread('synthetic_data/data/population1_001.tif')\n",
    "\n",
    "# run the process\n",
    "output_image = myprocess.run('-i', input_image, \n",
    "               '-sigma', 2, \n",
    "               '-regularization', 1, \n",
    "               '-weighting', 0.1) \n",
    "\n",
    "# visualize the images\n",
    "plt.figure(1)                      \n",
    "plt.imshow(input_image)\n",
    "plt.figure(2)\n",
    "plt.imshow(output_image)\n",
    "plt.show()"
   ]
  },
  {
   "cell_type": "markdown",
   "metadata": {},
   "source": [
    "The run process prints the executed command. As we can see, the input the output images are saved in the temporary directory to send them to the process. The advantage of the `run()` method is that we do not need to write code to send the data to the process (files saving and loading) and can just send the data to the process as if it where a native python function."
   ]
  },
  {
   "cell_type": "markdown",
   "metadata": {},
   "source": [
    "## Wrapping up\n",
    "\n",
    "In this short tutorial, we saw the basic usage of **BiProcess** class. Basically we need to know 3 methods\n",
    "1. `man`: to get the list of the process I/O and parameters\n",
    "2. `exec`: to execute the process on files\n",
    "3. `run`: to execute the process on data stored in python variables\n",
    "\n",
    "This **BiProcess** class is a single data level processing. To run a process on an experiment dataset, we use the **BiProcessRunner** in the next tutorial"
   ]
  }
 ],
 "metadata": {
  "kernelspec": {
   "display_name": "Python 3",
   "language": "python",
   "name": "python3"
  },
  "language_info": {
   "codemirror_mode": {
    "name": "ipython",
    "version": 3
   },
   "file_extension": ".py",
   "mimetype": "text/x-python",
   "name": "python",
   "nbconvert_exporter": "python",
   "pygments_lexer": "ipython3",
   "version": "3.6.8"
  }
 },
 "nbformat": 4,
 "nbformat_minor": 2
}
