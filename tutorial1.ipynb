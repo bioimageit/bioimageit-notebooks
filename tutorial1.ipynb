{
 "cells": [
  {
   "cell_type": "markdown",
   "metadata": {},
   "source": [
    "# BioImagePy: metadata manipulation tutorial\n",
    "\n",
    "In order to avoid using databases like sql to manipulate metadata for scientific data manipulation, we defined a set of rules to annotates data with text files. These text files are the metadata files stored with the `.md.json` extension: *md* for metadata and *json* for the Json format.\n",
    "\n",
    "Data are represented using 3 levels:\n",
    "1. **Data**: a single data is represented by one or several data files and one single `.md.json` file. A *Data* can be a *RawData* if it comes from an acquisition system or a *ProcessedData* if it is a *Data* obtained by processing any other *Data*,\n",
    "2. **DataSet**: a collection of *Data* described in a `.md.json` file. We define two types of *DataSets*: a *RawDataSet* contains a collection of *RawData*, and a *ProcessedDataSet* contains a collection of *ProcessedData*,\n",
    "3. **Experiment**: contains one *RawDataSet*, the images to be analysed, and a list of *ProcessedDataSet*, one for each process applied to the *Data*. The *Experiment* is described by a `.md.json` file.\n",
    "\n",
    "**BioImagePy** is a python library that allows to manipulate *Data*, *Datasets* and *Experiments* with a set of high level functions without needing to manualy edit `.md.json` files.\n",
    "\n",
    "The more common usage of **BioImagePy** is following this *Data* manipulation steps: \n",
    "1. Create an *Experiment*\n",
    "2. Import data to the *Experiment*\n",
    "3. Tag Data \n",
    "4. Process data. \n",
    "with goings and comming between steps 2 to 4\n",
    "\n",
    "This first tutorial cover the step 1, 2 and 3."
   ]
  },
  {
   "cell_type": "markdown",
   "metadata": {},
   "source": [
    "## Create an experiment\n",
    "\n",
    "To create an *Experiment* we need first to import the `experiment` module from `bioimagepy.metadata.experiment`.\n",
    "Then we call the function `create` to create the *Experiment*. The three parameters are:\n",
    "1. **name**: the name of the experiment\n",
    "2. **author**: the person who create the experiment\n",
    "3. **path**: the directory where the experiment will be create"
   ]
  },
  {
   "cell_type": "code",
   "execution_count": null,
   "metadata": {},
   "outputs": [],
   "source": [
    "# this is an optional command to install BioImagePy from conda if you do not have yet installed BioIMagePy\n",
    "import sys\n",
    "!conda install --yes --prefix {sys.prefix} /anaconda3/conda-bld/osx-64/bioimagepy-0.1.0-py36_0.tar.bz2\n"
   ]
  },
  {
   "cell_type": "code",
   "execution_count": null,
   "metadata": {},
   "outputs": [],
   "source": [
    "import bioimagepy.metadata.experiment as experiment\n",
    "\n",
    "## create an experiment\n",
    "my_experiment = experiment.create(name=\"myexperiment\", \n",
    "                                  author=\"Sylvain Prigent\", \n",
    "                                  path=\"./\") \n",
    "\n",
    "print(\"experiment created\")"
   ]
  },
  {
   "cell_type": "markdown",
   "metadata": {},
   "source": [
    "The *Experiment* has been created in the same directory as this notebook in the folder *./myexperiment*. The function \"list_files\" below shows the actual content of the expeiment folder: "
   ]
  },
  {
   "cell_type": "code",
   "execution_count": null,
   "metadata": {},
   "outputs": [],
   "source": [
    "import os\n",
    "\n",
    "def list_files(startpath):\n",
    "    for root, dirs, files in os.walk(startpath):\n",
    "        level = root.replace(startpath, '').count(os.sep)\n",
    "        indent = ' ' * 4 * (level)\n",
    "        print('{}{}/'.format(indent, os.path.basename(root)))\n",
    "        subindent = ' ' * 4 * (level + 1)\n",
    "        for f in sorted(files):\n",
    "            print('{}{}'.format(subindent, f))\n",
    "            \n",
    "list_files('./myexperiment')            "
   ]
  },
  {
   "cell_type": "markdown",
   "metadata": {},
   "source": [
    "In the root directory of the *Experiment*, there is the `experiment.md.json` metadata file. This is the file describing the experiment. Lets read it:"
   ]
  },
  {
   "cell_type": "code",
   "execution_count": null,
   "metadata": {},
   "outputs": [],
   "source": [
    "with open('./myexperiment/experiment.md.json', 'r') as fin:\n",
    "    print(fin.read())"
   ]
  },
  {
   "cell_type": "markdown",
   "metadata": {},
   "source": [
    "The file contains three 'sections':\n",
    "1. **information**: contains the basic information of the *Experiment* we gave when we call the `experiment.create` function, and the createddate.\n",
    "2. **rawdataset**: the directory where the *RawDataSet* metadata are stored. The *data/* directory and the `rawdatates.md.json` file have been created\n",
    "3. **proceeseddatasets**: the list of *ProcessedDataSet* path, that is empty for now since no processing has been performed.\n",
    "\n",
    "Let open the `rawdataset.md.json` file:"
   ]
  },
  {
   "cell_type": "code",
   "execution_count": null,
   "metadata": {},
   "outputs": [],
   "source": [
    "with open('./myexperiment/data/rawdataset.md.json', 'r') as fin:\n",
    "    print(fin.read())"
   ]
  },
  {
   "cell_type": "markdown",
   "metadata": {},
   "source": [
    "This metadata file contains the description of the *RawDataSet*. The name of the dataset (data) and 'urls' the list of all the *RawData*. For now the dataset is empty. In the next session, we import data in the project."
   ]
  },
  {
   "cell_type": "markdown",
   "metadata": {},
   "source": [
    "## Import data\n",
    "\n",
    "Data import into an *Experiment* can be done with two functions: `experiment.import_data()` to import a single data or `experiment.import_dir()` to import multiple data from a directory. In this tutorial, we will import the data from a directory containing a syntetic data samples. This syntetic data samples is located in the directory *'./synthetic_data/data/'* in the same directory of this notebook: "
   ]
  },
  {
   "cell_type": "code",
   "execution_count": null,
   "metadata": {},
   "outputs": [],
   "source": [
    "list_files('./synthetic_data/data/') "
   ]
  },
  {
   "cell_type": "markdown",
   "metadata": {},
   "source": [
    "This data set contains 40 *.tif* images separated in two populations of 20 images. These images are 128\\*128 2D images containing spots in the noise. Population1 images contains an average of 3.4 spots and Population2 images contains an average of 4.7 spots. Let visualize two samples:"
   ]
  },
  {
   "cell_type": "code",
   "execution_count": null,
   "metadata": {},
   "outputs": [],
   "source": [
    "import matplotlib.pyplot as plt\n",
    "import matplotlib.image as mpimg\n",
    "img=mpimg.imread('./synthetic_data/data/population1_001.tif')\n",
    "imgplot = plt.imshow(img)\n",
    "plt.show()\n",
    "img2=mpimg.imread('./synthetic_data/data/population2_001.tif')\n",
    "imgplot = plt.imshow(img2)\n",
    "plt.show()"
   ]
  },
  {
   "cell_type": "markdown",
   "metadata": {},
   "source": [
    "To import the data in the experiment, we just need to call the `experiment.import_dir()` function from the experiment module:"
   ]
  },
  {
   "cell_type": "code",
   "execution_count": null,
   "metadata": {
    "scrolled": true
   },
   "outputs": [],
   "source": [
    "# import the data\n",
    "experiment.import_dir(experiment=my_experiment, \n",
    "                      dir_path='./synthetic_data/data/', \n",
    "                      filter=\"\\.tif$\", \n",
    "                      author='Sylvain Prigent', \n",
    "                      datatype='image', \n",
    "                      createddate='2019-03-17', \n",
    "                      copy_data=True)\n",
    "\n",
    "# show the experiment directory\n",
    "list_files('./myexperiment') "
   ]
  },
  {
   "cell_type": "markdown",
   "metadata": {},
   "source": [
    "The parameters of the `experiment.import_dir()` function are this following: `experiment` is the experiment where we want to import the data, `dir_path` is the directory where the origin data are. `filter` is a regular expression not to import all the files from the `dir_path` but only specific ones. Here we select only the files that ends with *.tif*. The other parameters are the common metadata of the imported images. \n",
    "\n",
    "Finally the `copy_data` option specify if we want to copy or not the data. Here since the data are small, we decided to copy them. If we do not copy the data, only the `.md.json` files will be created. Let open the `rawdataset.md.json` metadata file:"
   ]
  },
  {
   "cell_type": "code",
   "execution_count": null,
   "metadata": {
    "scrolled": true
   },
   "outputs": [],
   "source": [
    "with open('./myexperiment/data/rawdataset.md.json', 'r') as fin:\n",
    "    print(fin.read())"
   ]
  },
  {
   "cell_type": "markdown",
   "metadata": {},
   "source": [
    "Now it contains the relative links to all the *RawData* metadata files. Let see the content of a *RawData* metadata file:"
   ]
  },
  {
   "cell_type": "code",
   "execution_count": null,
   "metadata": {},
   "outputs": [],
   "source": [
    "with open('./myexperiment/data/population1_001.md.json', 'r') as fin:\n",
    "    print(fin.read())"
   ]
  },
  {
   "cell_type": "markdown",
   "metadata": {},
   "source": [
    "The *common* section contains the metadata we specify during the import and the relative url of the data file `population1_001.tif`. We can notice the *origin* section which specify that this data is of type raw.\n",
    "\n",
    "In this tutorial, we manually read the `.md.json` files for a didactic purpose. In normal use of **BioImagePy**, we do not do it, since these file are the backend of **BioImagePy**. Now that you know how it works in the backend, we can use the high level display function of **BioImagePy**. \n",
    "\n",
    "To display the content (metadata, and *RawData* ) of an *Experiment*, we just need to call the `diplay()` method on an experiment:"
   ]
  },
  {
   "cell_type": "code",
   "execution_count": null,
   "metadata": {},
   "outputs": [],
   "source": [
    "import bioimagepy.metadata.experiment as experiment\n",
    "\n",
    "# Display the experiment\n",
    "my_experiment.display()"
   ]
  },
  {
   "cell_type": "markdown",
   "metadata": {},
   "source": [
    "## Tag the RawData\n",
    "\n",
    "One of the main advantage of the **BioImageIT** storage system with `.md.json` files is to be able to add tags to each `RawData`. With this tags, we will be able to query the data. \n",
    "\n",
    "For example, when we will analyse the data, we will need to perform a statistical test to determine if the *Population 1* and the *Population 2* have statistically different number of spots. Without tagging, we need to write a script that list and parse the *RawData* files and sort the data to analyse results depending on the image names (starting with *population1* or *population2*). With the tagging system, we only need to query **BioImagePy** to get the data containing the label *Population1* and *Population2* separatly.\n",
    "\n",
    "But first we need to tag the *RawData* !\n",
    "\n",
    "Each *RawData* file store the tags of it corresponding data, and the `experiment.md.json` file store the list of tags that are used in the *Experiment*.\n",
    "Tags edition can be done manually with the dedicated methods of the classes *BiRawData* and *BiExperiment* (see **BioImagePy** documentation). Nevertheless it is tedious. Thus, **BioImagePy** have a set of functions (starting with `tag\\_`) to automatically tags the `RawData` from the data files names:\n"
   ]
  },
  {
   "cell_type": "code",
   "execution_count": null,
   "metadata": {
    "scrolled": true
   },
   "outputs": [],
   "source": [
    "\n",
    "# Add the tag 'Population' to the experiment and extract the \n",
    "# values 'population1' and 'population2' from the images names\n",
    "experiment.tag_rawdata_from_name(my_experiment, \"Population\", ['population1', 'population2'] )\n",
    "my_experiment.display()"
   ]
  },
  {
   "cell_type": "markdown",
   "metadata": {},
   "source": [
    "With a single line of code we added the tag *'Population'* to the experiment and extracted the values from the images names. When we display the experiment we now see the tags added to the images.\n",
    "\n",
    "Now, we may want to extract the identifier of each image. It means extracting the characters after the *'\\_'* and before file extention in the file name:\n"
   ]
  },
  {
   "cell_type": "code",
   "execution_count": null,
   "metadata": {},
   "outputs": [],
   "source": [
    "# extract the image number using the separator tag parser\n",
    "experiment.tag_rawdata_using_seperator(experiment=my_experiment, tag=\"number\", separator=\"_\", value_position=1)  \n",
    "my_experiment.display()"
   ]
  },
  {
   "cell_type": "markdown",
   "metadata": {},
   "source": [
    "The function `tag_rawdata_using_seperator` create a tag called *'number'* in the *Experiment*, and get the values for each *RawData* by taging the second filename part (`value_position=1`) by parsing the filename with the separator *'\\_'* (`separator=\"\\_\"`)\n",
    "\n",
    "With only two line of code, we tags all the data with the population and the image number. Now we can query the data.\n",
    "For example let extract the data from one population:"
   ]
  },
  {
   "cell_type": "code",
   "execution_count": null,
   "metadata": {},
   "outputs": [],
   "source": [
    "# Extract RawData for population 1\n",
    "data_list = experiment.query(my_experiment, \"Population=population1\")\n",
    "\n",
    "# The query function returns a list of BiRawData objects, so we print the name of each selected data\n",
    "for data in data_list:\n",
    "    print(data.name())"
   ]
  },
  {
   "cell_type": "markdown",
   "metadata": {},
   "source": [
    "If we need to process some specific data from the '*population 1*' *RawData* we can conbine queries with the **AND** keyword:\n"
   ]
  },
  {
   "cell_type": "code",
   "execution_count": null,
   "metadata": {},
   "outputs": [],
   "source": [
    "# Extract RawData for population 1 with number <= 2\n",
    "data_list = experiment.query(my_experiment, \"Population=population2 AND number<=2\")\n",
    "\n",
    "# The query function returns a list of BiRawData objects, so we print the name of each selected data\n",
    "for data in data_list:\n",
    "    print(data.name())"
   ]
  },
  {
   "cell_type": "markdown",
   "metadata": {},
   "source": [
    "## Wrapping up\n",
    "\n",
    "In this tutorial, we saw the basic functionnalities of the **BioImagePy** to store and tag experimental data into a `BiExperiment` data strucure. The usualy tedious task is made easy using few python functions:\n",
    "1. `experiment.create`: to create the *Experiment* metadata structure\n",
    "2. `experiment.import_dir`: to import filtered data from a directory. One may use `experiment.import_data` to import a single data\n",
    "3. `experiment.tag\\_\\*`: functions to extract tag from file names. One can also manually edit tags with specific functions (see **BioImagePy** documentation)\n",
    "4. `experiment.query`: function to select some data using queries on the tags (ex: `Population=population1`)"
   ]
  }
 ],
 "metadata": {
  "kernelspec": {
   "display_name": "Python 3",
   "language": "python",
   "name": "python3"
  },
  "language_info": {
   "codemirror_mode": {
    "name": "ipython",
    "version": 3
   },
   "file_extension": ".py",
   "mimetype": "text/x-python",
   "name": "python",
   "nbconvert_exporter": "python",
   "pygments_lexer": "ipython3",
   "version": "3.6.8"
  }
 },
 "nbformat": 4,
 "nbformat_minor": 2
}
