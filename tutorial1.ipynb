{
 "cells": [
  {
   "cell_type": "markdown",
   "metadata": {},
   "source": [
    "# BioImagePy: metadata manipulation tutorial\n",
    "\n",
    "To avoid using databases like sql to manipulate metadata for scientific data manipulation, we defined a set of rules to annotates data with text files. These text files are the metadata files stored with the \".md.json\" extension: \"md\" for metadata and \"json\" for the Json format.\n",
    "\n",
    "Data are represented in 3 levels:\n",
    "1. Data: a single data represented by one or several data files and one single \".md.json\" file. A Data can be a RawData if it comes from an acquisition system or a ProcessedData if it is a Data obtained by processing any other Data\n",
    "2. DataSet: a collection of Data described in a \".md.json\" file. We define two types of DataSets: a RawDataSet contains a collection of RawData, and a ProcessedDataSet contains a collection of ProcessedData\n",
    "3. Experiment: contains one RawDataSet, the images to be analysed, and a list of ProcessedDataSet, one for each process applied to the Data. The Experiment is described by a \".md.json\" file\n",
    "\n",
    "BioImagePy is a python library that allows to manipulate Data, Datasets and Experiments with a set of high level functions without needed to manualy edit \".md.json\" files.\n",
    "\n",
    "The more common usage of BioImagePy following this Data manipulation steps: \n",
    "1. Create an Experiment\n",
    "2. Import data to the Experiment\n",
    "3. Tag Data \n",
    "4. Process data. \n",
    "with goings and comming between steps 2 to 4\n",
    "\n"
   ]
  }
 ],
 "metadata": {
  "kernelspec": {
   "display_name": "Python 3",
   "language": "python",
   "name": "python3"
  },
  "language_info": {
   "codemirror_mode": {
    "name": "ipython",
    "version": 3
   },
   "file_extension": ".py",
   "mimetype": "text/x-python",
   "name": "python",
   "nbconvert_exporter": "python",
   "pygments_lexer": "ipython3",
   "version": "3.6.8"
  }
 },
 "nbformat": 4,
 "nbformat_minor": 2
}
