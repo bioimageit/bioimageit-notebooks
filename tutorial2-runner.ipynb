{
 "cells": [
  {
   "cell_type": "markdown",
   "metadata": {},
   "source": [
    "# BioImagePy: runner or process execution\n",
    "\n",
    "This tutorial descibe the use of the **Runner** class to run a process. A process runable with the **Runner** class is a command line tool descibed by a *XML* file. The structure and content of a process *XML* file is not detailled in this tutorial. Please refer to the **BioImageIT** project documentation or to the **Galaxy Project** wrapper documentation to know more about *XML* process file or wrappers.\n",
    "\n",
    "In this tutorial, we assume that we have the process `svdeconv2d` available. What we call a process here is a executable program and it associated *XML* wrapper.\n"
   ]
  },
  {
   "cell_type": "markdown",
   "metadata": {},
   "source": [
    "## Setup the process"
   ]
  },
  {
   "cell_type": "code",
   "execution_count": null,
   "metadata": {},
   "outputs": [],
   "source": [
    "import sys\n",
    "\n",
    "# this is an optional command to link BioImagePy from local directory\n",
    "sys.path.append(\"../bioimagepy\") # Change this path to the bioimagepy directory\n",
    "\n",
    "# initialize the configuration\n",
    "from bioimagepy.config import ConfigAccess\n",
    "ConfigAccess(\"../config.json\")"
   ]
  },
  {
   "cell_type": "markdown",
   "metadata": {},
   "source": [
    "To run a process you need first to instantiate a **Process**. A **Process** is a class than contains all the matadata of the process. \n",
    "As it is tedious to instantiate a **Process** with the path of the XML file, **BioImagePy** provides a **ProcessAccess** class that manage an *XML wrappers* database. A process can than be instantiate by it fullname (ie name plus version)"
   ]
  },
  {
   "cell_type": "code",
   "execution_count": null,
   "metadata": {},
   "outputs": [],
   "source": [
    "from bioimagepy.process import ProcessAccess, Process\n",
    "\n",
    "processAccess = ProcessAccess()\n",
    "#processAccess.search()\n",
    "\n",
    "process = ProcessAccess().get('svdeconv2d_v0.1.0')\n",
    "if process:\n",
    "    process.man()\n",
    "else:\n",
    "    print(\"Process not found\")    "
   ]
  },
  {
   "cell_type": "markdown",
   "metadata": {},
   "source": [
    "## Setup the runner\n",
    "\n",
    "Now we can instantiate the runner with the process"
   ]
  },
  {
   "cell_type": "code",
   "execution_count": null,
   "metadata": {},
   "outputs": [],
   "source": [
    "from bioimagepy.runner import Runner\n",
    "\n",
    "runner = Runner(process)\n",
    "runner.man()"
   ]
  },
  {
   "cell_type": "markdown",
   "metadata": {},
   "source": [
    "The `man()` method prints a man page that describe the process. Thus we need to execute the `svdeconv` process with four parameters."
   ]
  },
  {
   "cell_type": "markdown",
   "metadata": {},
   "source": [
    "## Execute on files with exec()\n",
    "\n",
    "To execute the process we simply run the method exec with the parameters descibed in the `man()` method of the process:"
   ]
  },
  {
   "cell_type": "code",
   "execution_count": null,
   "metadata": {},
   "outputs": [],
   "source": [
    "import imageio\n",
    "\n",
    "runner.exec('i', 'synthetic_data/data/population1_001.tif', \n",
    "            'o', 'population1_001_denoised.tif', \n",
    "            'sigma', 2,\n",
    "            'regularization', 2, \n",
    "            'weighting', 0.1,\n",
    "            'method', 'SV') \n",
    "\n",
    "myoutput = imageio.imread('population1_001_denoised.tif')"
   ]
  },
  {
   "cell_type": "markdown",
   "metadata": {},
   "source": [
    "Lets visualize the output:"
   ]
  },
  {
   "cell_type": "code",
   "execution_count": null,
   "metadata": {},
   "outputs": [],
   "source": [
    "import matplotlib.pyplot as plt\n",
    "\n",
    "plt.figure(1)                      \n",
    "plt.imshow(imageio.imread('synthetic_data/data/population1_001.tif'))\n",
    "plt.figure(2)\n",
    "plt.imshow(myoutput)\n",
    "plt.show()"
   ]
  },
  {
   "cell_type": "markdown",
   "metadata": {},
   "source": [
    "This `exec()` method is usefull when we need to run a process on a list of data stored in a file system. Because, in this case, the data are not loaded into python variable but sent directly to the external process. "
   ]
  },
  {
   "cell_type": "markdown",
   "metadata": {},
   "source": [
    "## Execute on python data with run()\n",
    "\n",
    "The `run()` method allows to run the process direcly on python data. It usage is similar to `exec()` except that the ouptut data are returned."
   ]
  },
  {
   "cell_type": "code",
   "execution_count": null,
   "metadata": {},
   "outputs": [],
   "source": [
    "import matplotlib.pyplot as plt\n",
    "\n",
    "# load an image\n",
    "input_image = imageio.imread('synthetic_data/data/population1_001.tif')\n",
    "\n",
    "# run the process\n",
    "output_image = runner.run('i', input_image,\n",
    "               'regularization', 1, \n",
    "               'weighting', 0.1,\n",
    "               'method', 'SV') \n",
    "\n",
    "# visualize the images\n",
    "plt.figure(1)                      \n",
    "plt.imshow(input_image)\n",
    "plt.figure(2)\n",
    "plt.imshow(output_image)\n",
    "plt.show()"
   ]
  },
  {
   "cell_type": "markdown",
   "metadata": {},
   "source": [
    "The run process prints the executed command. As we can see, the input the output images are saved in the temporary directory to send them to the process. The advantage of the `run()` method is that we do not need to write code to send the data to the process (files saving and loading) and can just send the data to the process as if it where a native python function."
   ]
  },
  {
   "cell_type": "markdown",
   "metadata": {},
   "source": [
    "## Wrapping up\n",
    "\n",
    "In this short tutorial, we saw the usage of the **Runner** and **Process** classes. Basically we need to know 3 methods\n",
    "1. `man`: to get the list of the process I/O and parameters\n",
    "2. `exec`: to execute the process on files\n",
    "3. `run`: to execute the process on data stored in python variables\n",
    "\n",
    "This **Runner** class is a single data level processing and does not generate any metadata. To run a process on an experiment dataset and have automatically generated metadata, we use the **Pipeline** class in the next tutorial"
   ]
  }
 ],
 "metadata": {
  "kernelspec": {
   "display_name": "Python 3",
   "language": "python",
   "name": "python3"
  },
  "language_info": {
   "codemirror_mode": {
    "name": "ipython",
    "version": 3
   },
   "file_extension": ".py",
   "mimetype": "text/x-python",
   "name": "python",
   "nbconvert_exporter": "python",
   "pygments_lexer": "ipython3",
   "version": "3.7.3"
  }
 },
 "nbformat": 4,
 "nbformat_minor": 2
}
