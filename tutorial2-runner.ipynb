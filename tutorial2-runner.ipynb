{
 "cells": [
  {
   "cell_type": "markdown",
   "metadata": {},
   "source": [
    "# BioImagePy: runner or process execution\n",
    "\n",
    "This tutorial descibe the use of the **Runner** class to run a process. A process runable with the **Runner** class is a command line tool descibed by a *XML* file. The structure and content of a process *XML* file is not detailled in this tutorial. Please refer to the **BioImageIT** project documentation or to the **Galaxy Project** wrapper documentation to know more about *XML* process file or wrappers.\n",
    "\n",
    "In this tutorial, we assume that we have the process `sdeconv2d` available. What we call a process here is a executable program and it associated *XML* wrapper.\n"
   ]
  },
  {
   "cell_type": "markdown",
   "metadata": {},
   "source": [
    "## Setup the process"
   ]
  },
  {
   "cell_type": "code",
   "execution_count": 1,
   "metadata": {},
   "outputs": [
    {
     "data": {
      "text/plain": [
       "<bioimagepy.config.ConfigAccess at 0x112a79550>"
      ]
     },
     "execution_count": 1,
     "metadata": {},
     "output_type": "execute_result"
    }
   ],
   "source": [
    "import sys\n",
    "\n",
    "# this is an optional command to link BioImagePy from local directory\n",
    "sys.path.append(\"../bioimagepy\") # Change this path to the bioimagepy directory\n",
    "\n",
    "# initialize the configuration\n",
    "from bioimagepy.config import ConfigAccess\n",
    "ConfigAccess(\"../config.json\")"
   ]
  },
  {
   "cell_type": "markdown",
   "metadata": {},
   "source": [
    "To run a process you need first to instantiate a **Process**. A **Process** is a class than contains all the matadata of the process. \n",
    "As it is tedious to instantiate a **Process** with the path of the XML file, **BioImagePy** provides a **ProcessAccess** class that manage an *XML wrappers* database. A process can than be instantiate by it fullname (ie name plus version)"
   ]
  },
  {
   "cell_type": "code",
   "execution_count": 5,
   "metadata": {},
   "outputs": [
    {
     "name": "stdout",
     "output_type": "stream",
     "text": [
      "sampletool_v0.1.0\t     SampleTool\t          0.1.0\t     sequential\t/Users/sprigent/Documents/code/bioimage-it/package/bioimageit/toolboxes/tools/sampletool/tools/sampletool.xml\n",
      "threshold_particles_v1.0.0\tCount particles\t          1.0.0\t     sequential\t/Users/sprigent/Documents/code/bioimage-it/package/bioimageit/toolboxes/tools/fiji/tools/threshold_particles.xml\n",
      "Wilcoxon_v1.0.0\t       Wilcoxon\t          1.0.0\t          merge\t/Users/sprigent/Documents/code/bioimage-it/package/bioimageit/toolboxes/tools/htesting/tools/wilcoxon.xml\n",
      "svdeconv2d_v0.1.0\t    SPARTION 2D\t          0.1.0\t     sequential\t/Users/sprigent/Documents/code/bioimage-it/package/bioimageit/toolboxes/tools/simg/tools/svdeconv2d.xml\n",
      "svdeconv3d_v0.1.0\t    SPARTION 3D\t          0.1.0\t     sequential\t/Users/sprigent/Documents/code/bioimage-it/package/bioimageit/toolboxes/tools/simg/tools/svdeconv3d.xml\n"
     ]
    }
   ],
   "source": [
    "from bioimagepy.process import ProcessAccess, Process\n",
    "\n",
    "# show the list of all available processes\n",
    "processAccess = ProcessAccess()\n",
    "processAccess.search()"
   ]
  },
  {
   "cell_type": "code",
   "execution_count": 6,
   "metadata": {},
   "outputs": [
    {
     "name": "stdout",
     "output_type": "stream",
     "text": [
      "SPARTION 2D : \n",
      "\t              i\t               \t    Input Image\n",
      "\t          sigma\t              3\t          Sigma\n",
      "\t regularization\t              7\t Regularization\n",
      "\t      weighting\t            0.6\t      Weighting\n",
      "\t         method\t            HSV\t         Method\n",
      "\t              o\t               \t Denoised image\n"
     ]
    }
   ],
   "source": [
    "# get the svdeconv2d process\n",
    "process = ProcessAccess().get('sdeconv2d_v0.1.0')\n",
    "if process:\n",
    "    process.man()\n",
    "else:\n",
    "    print(\"Process not found\")    "
   ]
  },
  {
   "cell_type": "markdown",
   "metadata": {},
   "source": [
    "## Setup the runner\n",
    "\n",
    "Now we can instantiate the runner with the process"
   ]
  },
  {
   "cell_type": "code",
   "execution_count": 7,
   "metadata": {},
   "outputs": [
    {
     "name": "stdout",
     "output_type": "stream",
     "text": [
      "SPARTION 2D : \n",
      "\t              i\t               \t    Input Image\n",
      "\t          sigma\t              3\t          Sigma\n",
      "\t regularization\t              7\t Regularization\n",
      "\t      weighting\t            0.6\t      Weighting\n",
      "\t         method\t            HSV\t         Method\n",
      "\t              o\t               \t Denoised image\n"
     ]
    }
   ],
   "source": [
    "from bioimagepy.runner import Runner\n",
    "\n",
    "runner = Runner(process)\n",
    "runner.man()"
   ]
  },
  {
   "cell_type": "markdown",
   "metadata": {},
   "source": [
    "The `man()` method prints a man page that describe the process. Thus we need to execute the `svdeconv` process with four parameters."
   ]
  },
  {
   "cell_type": "markdown",
   "metadata": {},
   "source": [
    "## Execute on files with exec()\n",
    "\n",
    "To execute the process we simply run the method exec with the parameters descibed in the `man()` method of the process:"
   ]
  },
  {
   "cell_type": "code",
   "execution_count": 10,
   "metadata": {},
   "outputs": [
    {
     "name": "stdout",
     "output_type": "stream",
     "text": [
      "run singularity container: docker://registry.gitlab.inria.fr/serpico/simg:2ef8ff9b5495a722ef03188106e912371dc9d46d\n",
      "args: ['svdeconv2d', '-i', 'synthetic_data/data/population1_001.tif', '-o', 'population1_001_deconv.tif', '-sigma', '2', '-regularization', '2', '-weighting', '0.1', '-method', 'SV', '-niter', '200']\n"
     ]
    },
    {
     "ename": "FileNotFoundError",
     "evalue": "No such file: '/Users/sprigent/Documents/code/bioimage-it/package/bioimageit/bioimagepy-tutorial/population1_001_deconv.tif'",
     "output_type": "error",
     "traceback": [
      "\u001b[0;31m---------------------------------------------------------------------------\u001b[0m",
      "\u001b[0;31mFileNotFoundError\u001b[0m                         Traceback (most recent call last)",
      "\u001b[0;32m<ipython-input-10-3b3c23f986de>\u001b[0m in \u001b[0;36m<module>\u001b[0;34m\u001b[0m\n\u001b[1;32m      8\u001b[0m             'method', 'SV') \n\u001b[1;32m      9\u001b[0m \u001b[0;34m\u001b[0m\u001b[0m\n\u001b[0;32m---> 10\u001b[0;31m \u001b[0mmyoutput\u001b[0m \u001b[0;34m=\u001b[0m \u001b[0mimageio\u001b[0m\u001b[0;34m.\u001b[0m\u001b[0mimread\u001b[0m\u001b[0;34m(\u001b[0m\u001b[0;34m'population1_001_deconv.tif'\u001b[0m\u001b[0;34m)\u001b[0m\u001b[0;34m\u001b[0m\u001b[0;34m\u001b[0m\u001b[0m\n\u001b[0m",
      "\u001b[0;32m~/Documents/code/bioimage-it/package/bioimageit/.bioimageit-env/lib/python3.7/site-packages/imageio/core/functions.py\u001b[0m in \u001b[0;36mimread\u001b[0;34m(uri, format, **kwargs)\u001b[0m\n\u001b[1;32m    263\u001b[0m \u001b[0;34m\u001b[0m\u001b[0m\n\u001b[1;32m    264\u001b[0m     \u001b[0;31m# Get reader and read first\u001b[0m\u001b[0;34m\u001b[0m\u001b[0;34m\u001b[0m\u001b[0;34m\u001b[0m\u001b[0m\n\u001b[0;32m--> 265\u001b[0;31m     \u001b[0mreader\u001b[0m \u001b[0;34m=\u001b[0m \u001b[0mread\u001b[0m\u001b[0;34m(\u001b[0m\u001b[0muri\u001b[0m\u001b[0;34m,\u001b[0m \u001b[0mformat\u001b[0m\u001b[0;34m,\u001b[0m \u001b[0;34m\"i\"\u001b[0m\u001b[0;34m,\u001b[0m \u001b[0;34m**\u001b[0m\u001b[0mkwargs\u001b[0m\u001b[0;34m)\u001b[0m\u001b[0;34m\u001b[0m\u001b[0;34m\u001b[0m\u001b[0m\n\u001b[0m\u001b[1;32m    266\u001b[0m     \u001b[0;32mwith\u001b[0m \u001b[0mreader\u001b[0m\u001b[0;34m:\u001b[0m\u001b[0;34m\u001b[0m\u001b[0;34m\u001b[0m\u001b[0m\n\u001b[1;32m    267\u001b[0m         \u001b[0;32mreturn\u001b[0m \u001b[0mreader\u001b[0m\u001b[0;34m.\u001b[0m\u001b[0mget_data\u001b[0m\u001b[0;34m(\u001b[0m\u001b[0;36m0\u001b[0m\u001b[0;34m)\u001b[0m\u001b[0;34m\u001b[0m\u001b[0;34m\u001b[0m\u001b[0m\n",
      "\u001b[0;32m~/Documents/code/bioimage-it/package/bioimageit/.bioimageit-env/lib/python3.7/site-packages/imageio/core/functions.py\u001b[0m in \u001b[0;36mget_reader\u001b[0;34m(uri, format, mode, **kwargs)\u001b[0m\n\u001b[1;32m    170\u001b[0m \u001b[0;34m\u001b[0m\u001b[0m\n\u001b[1;32m    171\u001b[0m     \u001b[0;31m# Create request object\u001b[0m\u001b[0;34m\u001b[0m\u001b[0;34m\u001b[0m\u001b[0;34m\u001b[0m\u001b[0m\n\u001b[0;32m--> 172\u001b[0;31m     \u001b[0mrequest\u001b[0m \u001b[0;34m=\u001b[0m \u001b[0mRequest\u001b[0m\u001b[0;34m(\u001b[0m\u001b[0muri\u001b[0m\u001b[0;34m,\u001b[0m \u001b[0;34m\"r\"\u001b[0m \u001b[0;34m+\u001b[0m \u001b[0mmode\u001b[0m\u001b[0;34m,\u001b[0m \u001b[0;34m**\u001b[0m\u001b[0mkwargs\u001b[0m\u001b[0;34m)\u001b[0m\u001b[0;34m\u001b[0m\u001b[0;34m\u001b[0m\u001b[0m\n\u001b[0m\u001b[1;32m    173\u001b[0m \u001b[0;34m\u001b[0m\u001b[0m\n\u001b[1;32m    174\u001b[0m     \u001b[0;31m# Get format\u001b[0m\u001b[0;34m\u001b[0m\u001b[0;34m\u001b[0m\u001b[0;34m\u001b[0m\u001b[0m\n",
      "\u001b[0;32m~/Documents/code/bioimage-it/package/bioimageit/.bioimageit-env/lib/python3.7/site-packages/imageio/core/request.py\u001b[0m in \u001b[0;36m__init__\u001b[0;34m(self, uri, mode, **kwargs)\u001b[0m\n\u001b[1;32m    119\u001b[0m \u001b[0;34m\u001b[0m\u001b[0m\n\u001b[1;32m    120\u001b[0m         \u001b[0;31m# Parse what was given\u001b[0m\u001b[0;34m\u001b[0m\u001b[0;34m\u001b[0m\u001b[0;34m\u001b[0m\u001b[0m\n\u001b[0;32m--> 121\u001b[0;31m         \u001b[0mself\u001b[0m\u001b[0;34m.\u001b[0m\u001b[0m_parse_uri\u001b[0m\u001b[0;34m(\u001b[0m\u001b[0muri\u001b[0m\u001b[0;34m)\u001b[0m\u001b[0;34m\u001b[0m\u001b[0;34m\u001b[0m\u001b[0m\n\u001b[0m\u001b[1;32m    122\u001b[0m \u001b[0;34m\u001b[0m\u001b[0m\n\u001b[1;32m    123\u001b[0m         \u001b[0;31m# Set extension\u001b[0m\u001b[0;34m\u001b[0m\u001b[0;34m\u001b[0m\u001b[0;34m\u001b[0m\u001b[0m\n",
      "\u001b[0;32m~/Documents/code/bioimage-it/package/bioimageit/.bioimageit-env/lib/python3.7/site-packages/imageio/core/request.py\u001b[0m in \u001b[0;36m_parse_uri\u001b[0;34m(self, uri)\u001b[0m\n\u001b[1;32m    255\u001b[0m                 \u001b[0;31m# Reading: check that the file exists (but is allowed a dir)\u001b[0m\u001b[0;34m\u001b[0m\u001b[0;34m\u001b[0m\u001b[0;34m\u001b[0m\u001b[0m\n\u001b[1;32m    256\u001b[0m                 \u001b[0;32mif\u001b[0m \u001b[0;32mnot\u001b[0m \u001b[0mos\u001b[0m\u001b[0;34m.\u001b[0m\u001b[0mpath\u001b[0m\u001b[0;34m.\u001b[0m\u001b[0mexists\u001b[0m\u001b[0;34m(\u001b[0m\u001b[0mfn\u001b[0m\u001b[0;34m)\u001b[0m\u001b[0;34m:\u001b[0m\u001b[0;34m\u001b[0m\u001b[0;34m\u001b[0m\u001b[0m\n\u001b[0;32m--> 257\u001b[0;31m                     \u001b[0;32mraise\u001b[0m \u001b[0mFileNotFoundError\u001b[0m\u001b[0;34m(\u001b[0m\u001b[0;34m\"No such file: '%s'\"\u001b[0m \u001b[0;34m%\u001b[0m \u001b[0mfn\u001b[0m\u001b[0;34m)\u001b[0m\u001b[0;34m\u001b[0m\u001b[0;34m\u001b[0m\u001b[0m\n\u001b[0m\u001b[1;32m    258\u001b[0m             \u001b[0;32melse\u001b[0m\u001b[0;34m:\u001b[0m\u001b[0;34m\u001b[0m\u001b[0;34m\u001b[0m\u001b[0m\n\u001b[1;32m    259\u001b[0m                 \u001b[0;31m# Writing: check that the directory to write to does exist\u001b[0m\u001b[0;34m\u001b[0m\u001b[0;34m\u001b[0m\u001b[0;34m\u001b[0m\u001b[0m\n",
      "\u001b[0;31mFileNotFoundError\u001b[0m: No such file: '/Users/sprigent/Documents/code/bioimage-it/package/bioimageit/bioimagepy-tutorial/population1_001_deconv.tif'"
     ]
    }
   ],
   "source": [
    "import imageio\n",
    "\n",
    "runner.exec('i', 'synthetic_data/data/population1_001.tif', \n",
    "            'o', 'population1_001_deconv.tif', \n",
    "            'sigma', 2,\n",
    "            'regularization', 2, \n",
    "            'weighting', 0.1,\n",
    "            'method', 'SV') \n",
    "\n",
    "myoutput = imageio.imread('population1_001_deconv.tif')"
   ]
  },
  {
   "cell_type": "markdown",
   "metadata": {},
   "source": [
    "Lets visualize the output:"
   ]
  },
  {
   "cell_type": "code",
   "execution_count": null,
   "metadata": {},
   "outputs": [],
   "source": [
    "import matplotlib.pyplot as plt\n",
    "\n",
    "plt.figure(1)                      \n",
    "plt.imshow(imageio.imread('synthetic_data/data/population1_001.tif'))\n",
    "plt.figure(2)\n",
    "plt.imshow(myoutput)\n",
    "plt.show()"
   ]
  },
  {
   "cell_type": "markdown",
   "metadata": {},
   "source": [
    "This `exec()` method is usefull when we need to run a process on a list of data stored in a file system. Because, in this case, the data are not loaded into python variable but sent directly to the external process. "
   ]
  },
  {
   "cell_type": "markdown",
   "metadata": {},
   "source": [
    "## Execute on python data with run()\n",
    "\n",
    "The `run()` method allows to run the process direcly on python data. It usage is similar to `exec()` except that the ouptut data are returned."
   ]
  },
  {
   "cell_type": "code",
   "execution_count": null,
   "metadata": {},
   "outputs": [],
   "source": [
    "import matplotlib.pyplot as plt\n",
    "\n",
    "# load an image\n",
    "input_image = imageio.imread('synthetic_data/data/population1_001.tif')\n",
    "\n",
    "# run the process\n",
    "output_image = runner.run('i', input_image,\n",
    "               'regularization', 1, \n",
    "               'weighting', 0.1,\n",
    "               'method', 'SV') \n",
    "\n",
    "# visualize the images\n",
    "plt.figure(1)                      \n",
    "plt.imshow(input_image)\n",
    "plt.figure(2)\n",
    "plt.imshow(output_image)\n",
    "plt.show()"
   ]
  },
  {
   "cell_type": "markdown",
   "metadata": {},
   "source": [
    "The run process prints the executed command. As we can see, the input the output images are saved in the temporary directory to send them to the process. The advantage of the `run()` method is that we do not need to write code to send the data to the process (files saving and loading) and can just send the data to the process as if it where a native python function."
   ]
  },
  {
   "cell_type": "markdown",
   "metadata": {},
   "source": [
    "## Wrapping up\n",
    "\n",
    "In this short tutorial, we saw the usage of the **Runner** and **Process** classes. Basically we need to know 3 methods\n",
    "1. `man`: to get the list of the process I/O and parameters\n",
    "2. `exec`: to execute the process on files\n",
    "3. `run`: to execute the process on data stored in python variables\n",
    "\n",
    "This **Runner** class is a single data level processing and does not generate any metadata. To run a process on an experiment dataset and have automatically generated metadata, we use the **Pipeline** class in the next tutorial"
   ]
  }
 ],
 "metadata": {
  "kernelspec": {
   "display_name": "Python 3",
   "language": "python",
   "name": "python3"
  },
  "language_info": {
   "codemirror_mode": {
    "name": "ipython",
    "version": 3
   },
   "file_extension": ".py",
   "mimetype": "text/x-python",
   "name": "python",
   "nbconvert_exporter": "python",
   "pygments_lexer": "ipython3",
   "version": "3.7.3"
  }
 },
 "nbformat": 4,
 "nbformat_minor": 2
}
