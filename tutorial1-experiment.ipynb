{
 "cells": [
  {
   "cell_type": "markdown",
   "metadata": {},
   "source": [
    "# BioImagePy: metadata manipulation tutorial\n",
    "\n",
    "In order to avoid using databases like sql to manipulate metadata for scientific data manipulation, we defined a set of rules to annotates data with text files. These text files are metadata files stored with the `.md.json` extension: *md* for metadata and *json* for the Json format.\n",
    "\n",
    "Data are represented using 3 levels:\n",
    "1. **Data**: a single data is made of one or several data files and one single `.md.json` file. A *Data* can be a *RawData* if it comes from an acquisition system or a *ProcessedData* if it is a *Data* obtained by processing any other *Data*,\n",
    "2. **DataSet**: a collection of *Data* described in a `.md.json` file. We define two types of *DataSets*: a *RawDataSet* contains a collection of *RawData*, and a *ProcessedDataSet* contains a collection of *ProcessedData*,\n",
    "3. **Experiment**: contains one *RawDataSet*, the images to be analysed, and a list of *ProcessedDataSet*, one for each process applied to the *Data*. The *Experiment* is described by a `.md.json` file.\n",
    "\n",
    "**BioImagePy** is a python library that allows to manipulate *Data*, *Datasets* and *Experiments* with a set of high level functions without needing to manualy edit `.md.json` files.\n",
    "\n",
    "The more common usage of **BioImagePy** is following this *Data* manipulation steps: \n",
    "1. Create an *Experiment*\n",
    "2. Import data to the *Experiment*\n",
    "3. Tag Data \n",
    "4. Process data. \n",
    "with goings and comming between steps 2 to 4\n",
    "\n",
    "This first tutorial cover the step 1, 2 and 3."
   ]
  },
  {
   "cell_type": "markdown",
   "metadata": {},
   "source": [
    "## Install BioImagePy\n",
    "\n",
    "If **BioImagePy** is not installed in your environment:"
   ]
  },
  {
   "cell_type": "code",
   "execution_count": 2,
   "metadata": {},
   "outputs": [
    {
     "name": "stdout",
     "output_type": "stream",
     "text": [
      "Help on module bioimagepy.experiment in bioimagepy:\n",
      "\n",
      "NAME\n",
      "    bioimagepy.experiment - experiment module.\n",
      "\n",
      "DESCRIPTION\n",
      "    This module contains the Experiment class that allows to read/write and query\n",
      "    an experiment metadata.\n",
      "    \n",
      "    Example\n",
      "    -------\n",
      "        Here is an example of how to create an experiment and add data to it:\n",
      "    \n",
      "            >>> from bioimagepy.experiment import Experiment\n",
      "            >>> myexperiment = Experiment()\n",
      "            >>> myexperiment.create('myexperiment', 'Sylvain Prigent', './')\n",
      "            >>> myexperiment.import_data(uri='data_uri', name='mydata', author='Sylvain Prigent', dataformat='tif', createddata='now', copy_data=True)\n",
      "            >>> myexperiment.import_dir(dir_uri='./my/local/dir/', author='Sylvain Prigent', dataformat='tif', createddate='now', copy_data=True)\n",
      "            >>> myexperiment.tag_from_name(tag='population', ['population1', 'population2'])\n",
      "            >>> myexperiment.tag_using_seperator(tag='ID', separator='_', value_position=1)\n",
      "            >>> myexperiment.display()\n",
      "    \n",
      "    Classes\n",
      "    -------\n",
      "    Experiment\n",
      "    \n",
      "    \n",
      "    TODO:\n",
      "        Add methods:\n",
      "            add_tag(name:str)\n",
      "\n",
      "CLASSES\n",
      "    bioimagepy.core.utils.Observable(builtins.object)\n",
      "        Experiment\n",
      "    \n",
      "    class Experiment(bioimagepy.core.utils.Observable)\n",
      "     |  Experiment(md_uri='')\n",
      "     |  \n",
      "     |  Allows to interact with the matedata of an experiment\n",
      "     |  \n",
      "     |  Parameters\n",
      "     |  ----------\n",
      "     |  md_uri\n",
      "     |      URI of the experiment in the database\n",
      "     |  \n",
      "     |  Method resolution order:\n",
      "     |      Experiment\n",
      "     |      bioimagepy.core.utils.Observable\n",
      "     |      builtins.object\n",
      "     |  \n",
      "     |  Methods defined here:\n",
      "     |  \n",
      "     |  __init__(self, md_uri='')\n",
      "     |      Initialize self.  See help(type(self)) for accurate signature.\n",
      "     |  \n",
      "     |  create(self, name: str, author: str, date: str = 'now', uri: str = '')\n",
      "     |      Create a new experiment\n",
      "     |      \n",
      "     |      The create method initialize a new experiment with\n",
      "     |      the main metadata architecture\n",
      "     |      \n",
      "     |      Parameters\n",
      "     |      ----------\n",
      "     |      name\n",
      "     |          Name of the experiment\n",
      "     |      author\n",
      "     |          Name of the person who created the experiment\n",
      "     |      uri\n",
      "     |          URI of the experiment. For local it is the directory\n",
      "     |          where the experiment will be saved. For Omero, it is the\n",
      "     |          user workspace\n",
      "     |  \n",
      "     |  display(self, dataset: str = 'data')\n",
      "     |      Display a dataset content as a table in the console\n",
      "     |      \n",
      "     |      Parameters\n",
      "     |      ----------        \n",
      "     |      dataset\n",
      "     |          Name of the dataset to display\n",
      "     |  \n",
      "     |  get_data(self, dataset_name: str, query: str, origin_output_name: str = '') -> list\n",
      "     |      query a specific dataset of an experiment\n",
      "     |      \n",
      "     |      In this verion only AND queries are supported (ex: tag1=value1 AND tag2=value2)\n",
      "     |      and performed on the data set named dataset\n",
      "     |      \n",
      "     |      Parameters\n",
      "     |      ----------\n",
      "     |      dataset_name\n",
      "     |          Name of the dataset to query    \n",
      "     |      query\n",
      "     |          String query with the key=value format. \n",
      "     |      origin_output_name\n",
      "     |          Name of the ouput origin (ex: -o) in the case of ProcessedDataset search       \n",
      "     |      \n",
      "     |      Returns\n",
      "     |      -------\n",
      "     |      list\n",
      "     |          List of selected data (md.json files urls are returned)\n",
      "     |  \n",
      "     |  get_dataset(self, name: str)\n",
      "     |      Get the metadata of a dataset\n",
      "     |      \n",
      "     |      Returns a RawDataset or a ProcessedDataSet\n",
      "     |      \n",
      "     |      Parameters\n",
      "     |      ----------\n",
      "     |      name\n",
      "     |          Name of the dataset\n",
      "     |  \n",
      "     |  import_data(self, data_path: str, name: str, author: str, format: str, date: str = 'now', tags: dict = {}, copy: bool = True)\n",
      "     |      import one data to the experiment \n",
      "     |      \n",
      "     |      The data is imported to the rawdataset\n",
      "     |      \n",
      "     |      Parameters\n",
      "     |      ----------\n",
      "     |      data_path\n",
      "     |          Path of the accessible data on your local computer\n",
      "     |      name\n",
      "     |          Name of the data\n",
      "     |      author\n",
      "     |          Person who created the data \n",
      "     |      format:\n",
      "     |          Format of the data (ex: tif)     \n",
      "     |      date\n",
      "     |          Date when the data where created\n",
      "     |      tags\n",
      "     |          Dictonnary {key:value, key:value} of tags\n",
      "     |      copy\n",
      "     |          True to copy the data to the Experiment database\n",
      "     |          False otherwhise  \n",
      "     |      \n",
      "     |      Returns\n",
      "     |      -------\n",
      "     |      class RawData containing the metadata\n",
      "     |  \n",
      "     |  import_dir(self, dir_uri: str, filter: str, author: str, format: str, date: str, copy_data: bool)\n",
      "     |      Import data from a directory to the experiment\n",
      "     |      \n",
      "     |      This method import with or whitout copy data contained \n",
      "     |      in a local folder into an experiment. Imported data are\n",
      "     |      considered as RawData for the experiment\n",
      "     |      \n",
      "     |      Parameters\n",
      "     |      ----------\n",
      "     |      dir_uri\n",
      "     |          URI of the directory containing the data to be imported\n",
      "     |      filter\n",
      "     |          Regular expression to filter which files in the folder \n",
      "     |          to import    \n",
      "     |      author\n",
      "     |          Name of the person who created the data\n",
      "     |      format\n",
      "     |          Format of the image (ex: tif)    \n",
      "     |      date\n",
      "     |          Date when the data where created\n",
      "     |      copy_data\n",
      "     |          True to copy the data to the experiment, false otherwise. If the\n",
      "     |          data are not copied, an absolute link to dir_uri is kept in the\n",
      "     |          experiment metadata. The original data directory must then not be\n",
      "     |          changed for the experiment to find the data.\n",
      "     |  \n",
      "     |  read(self)\n",
      "     |      Read the metadata from database\n",
      "     |      \n",
      "     |      The data base connection is managed by the configuration \n",
      "     |      object\n",
      "     |  \n",
      "     |  set_tag(self, tag: str, add_to_data: bool = True)\n",
      "     |      Add a tag key to the experiment\n",
      "     |      \n",
      "     |      It add the tag key (if not already exists) to the \n",
      "     |      experiment metadata and also add a tag key to all \n",
      "     |      the images\n",
      "     |      \n",
      "     |      Parameters\n",
      "     |      ----------\n",
      "     |      tag\n",
      "     |          Tag key to be added\n",
      "     |      add_to_data\n",
      "     |          if True add an empty tag to all the data in\n",
      "     |          the RawDataSet\n",
      "     |  \n",
      "     |  tag_from_name(self, tag: str, values: list)\n",
      "     |      Tag an experiment raw data using file name\n",
      "     |      \n",
      "     |      Parameters\n",
      "     |      ----------\n",
      "     |      tag\n",
      "     |          The name (or key) of the tag to add to the data\n",
      "     |      values\n",
      "     |          List of possible values for the tag to find in the filename\n",
      "     |  \n",
      "     |  tag_using_seperator(self, tag: str, separator: str, value_position: int)\n",
      "     |      Tag an experiment raw data using file name and separator\n",
      "     |      \n",
      "     |      Parameters\n",
      "     |      ----------\n",
      "     |      tag\n",
      "     |          The name (or key) of the tag to add to the data\n",
      "     |      separator\n",
      "     |          The character used as a separator in the filename (ex: _)    \n",
      "     |      value_position\n",
      "     |          Position of the value to extract with respect to the separators\n",
      "     |  \n",
      "     |  write(self)\n",
      "     |      Write the metadata to database\n",
      "     |              \n",
      "     |      The data base connection is managed by the configuration \n",
      "     |      object\n",
      "     |  \n",
      "     |  ----------------------------------------------------------------------\n",
      "     |  Methods inherited from bioimagepy.core.utils.Observable:\n",
      "     |  \n",
      "     |  addObserver(self, observer: bioimagepy.core.utils.ProgressObserver)\n",
      "     |      Add an observer\n",
      "     |      \n",
      "     |      Parameters\n",
      "     |      ----------\n",
      "     |      observer\n",
      "     |          ProgressObserver to add\n",
      "     |  \n",
      "     |  notify_observers(self, purcentage, message)\n",
      "     |      Notify observer the progress of the import\n",
      "     |      \n",
      "     |      Parameters\n",
      "     |      ----------\n",
      "     |      count\n",
      "     |          Purcentage of file processed\n",
      "     |      \n",
      "     |      file\n",
      "     |          Name of the current processed file as a progress message\n",
      "     |  \n",
      "     |  ----------------------------------------------------------------------\n",
      "     |  Data descriptors inherited from bioimagepy.core.utils.Observable:\n",
      "     |  \n",
      "     |  __dict__\n",
      "     |      dictionary for instance variables (if defined)\n",
      "     |  \n",
      "     |  __weakref__\n",
      "     |      list of weak references to the object (if defined)\n",
      "\n",
      "DATA\n",
      "    metadataServices = <bioimagepy.metadata.factory.MetadataServiceProvide...\n",
      "\n",
      "FILE\n",
      "    /Users/sprigent/Documents/code/bioimageit_api/bioimagepy/bioimagepy/experiment.py\n",
      "\n",
      "\n"
     ]
    }
   ],
   "source": [
    "import sys\n",
    "\n",
    "# this is an optional command to install BioImagePy from conda if you do not have yet installed BioIMagePy\n",
    "#!conda install --yes --prefix {sys.prefix} /Users/sprigent/anaconda3/conda-bld/osx-64/bioimagepy-0.1.0-py37_0.tar.bz2\n",
    "\n",
    "# this is an optional command to link BioImagePy from local directory\n",
    "sys.path.append(\"../bioimagepy\") # Change this path to the bioimagepy directory\n",
    "\n",
    "\n",
    "# Import the experiment module and display the help to test if the installation is working\n",
    "import bioimagepy.experiment as experimentpy\n",
    "help(experimentpy)\n"
   ]
  },
  {
   "cell_type": "markdown",
   "metadata": {},
   "source": [
    "## Create an experiment\n",
    "\n",
    "To create an *Experiment* we need first to import the `Experiment` class from `bioimagepy.experiment`.\n",
    "Then we call the method `create` to create the *Experiment*. The three parameters are:\n",
    "1. **name**: the name of the experiment\n",
    "2. **author**: the person who create the experiment\n",
    "3. **uri**: the directory where the experiment will be create"
   ]
  },
  {
   "cell_type": "code",
   "execution_count": 4,
   "metadata": {},
   "outputs": [
    {
     "name": "stdout",
     "output_type": "stream",
     "text": [
      "experiment created\n"
     ]
    }
   ],
   "source": [
    "from bioimagepy.experiment import Experiment\n",
    "\n",
    "## create an experiment\n",
    "my_experiment = Experiment()\n",
    "my_experiment.create(name=\"myexperiment\", \n",
    "                     author=\"Sylvain Prigent\", \n",
    "                     uri=\"./\") \n",
    "\n",
    "print(\"experiment created\")"
   ]
  },
  {
   "cell_type": "markdown",
   "metadata": {},
   "source": [
    "The *Experiment* has been created in the same directory as this notebook in the folder *./myexperiment*. The function \"list_files\" below shows the actual content of the expeiment folder: "
   ]
  },
  {
   "cell_type": "code",
   "execution_count": 5,
   "metadata": {},
   "outputs": [
    {
     "name": "stdout",
     "output_type": "stream",
     "text": [
      "myexperiment/\n",
      "    experiment.md.json\n",
      "    data/\n",
      "        rawdataset.md.json\n"
     ]
    }
   ],
   "source": [
    "import os\n",
    "\n",
    "def list_files(startpath):\n",
    "    for root, dirs, files in os.walk(startpath):\n",
    "        level = root.replace(startpath, '').count(os.sep)\n",
    "        indent = ' ' * 4 * (level)\n",
    "        print('{}{}/'.format(indent, os.path.basename(root)))\n",
    "        subindent = ' ' * 4 * (level + 1)\n",
    "        for f in sorted(files):\n",
    "            print('{}{}'.format(subindent, f))\n",
    "            \n",
    "list_files('./myexperiment')            "
   ]
  },
  {
   "cell_type": "markdown",
   "metadata": {},
   "source": [
    "In the root directory of the *Experiment*, there is the `experiment.md.json` metadata file. This is the file describing the experiment. Lets read it:"
   ]
  },
  {
   "cell_type": "code",
   "execution_count": 6,
   "metadata": {},
   "outputs": [
    {
     "name": "stdout",
     "output_type": "stream",
     "text": [
      "{\n",
      "    \"information\": {\n",
      "        \"name\": \"myexperiment\",\n",
      "        \"author\": \"Sylvain Prigent\",\n",
      "        \"date\": \"2020-03-25\"\n",
      "    },\n",
      "    \"rawdataset\": \"data/rawdataset.md.json\",\n",
      "    \"processeddatasets\": [],\n",
      "    \"tags\": []\n",
      "}\n"
     ]
    }
   ],
   "source": [
    "with open('./myexperiment/experiment.md.json', 'r') as fin:\n",
    "    print(fin.read())"
   ]
  },
  {
   "cell_type": "markdown",
   "metadata": {},
   "source": [
    "The file contains three 'sections':\n",
    "1. **information**: contains the basic information of the *Experiment* we gave when we call the `experiment.create` function, and the createddate.\n",
    "2. **rawdataset**: the directory where the *RawDataSet* metadata are stored. The *data/* directory and the `rawdatates.md.json` file have been created\n",
    "3. **proceeseddatasets**: the list of *ProcessedDataSet* path, that is empty for now since no processing has been performed.\n",
    "\n",
    "Let open the `rawdataset.md.json` file:"
   ]
  },
  {
   "cell_type": "code",
   "execution_count": 7,
   "metadata": {},
   "outputs": [
    {
     "name": "stdout",
     "output_type": "stream",
     "text": [
      "{\n",
      "    \"name\": \"data\",\n",
      "    \"urls\": []\n",
      "}\n"
     ]
    }
   ],
   "source": [
    "with open('./myexperiment/data/rawdataset.md.json', 'r') as fin:\n",
    "    print(fin.read())"
   ]
  },
  {
   "cell_type": "markdown",
   "metadata": {},
   "source": [
    "This metadata file contains the description of the *RawDataSet*. The name of the dataset (data) and 'urls' the list of all the *RawData*. For now the dataset is empty. In the next session, we import data in the project."
   ]
  },
  {
   "cell_type": "markdown",
   "metadata": {},
   "source": [
    "## Import data\n",
    "\n",
    "Data import into an *Experiment* can be done with two methods: `import_data()` to import a single data or `import_dir()` to import multiple data from a directory. In this tutorial, we will import the data from a directory containing syntetic data samples. This syntetic data samples are located in the directory *'./synthetic_data/data/'* in the same directory of this notebook: "
   ]
  },
  {
   "cell_type": "code",
   "execution_count": 8,
   "metadata": {
    "scrolled": true
   },
   "outputs": [
    {
     "name": "stdout",
     "output_type": "stream",
     "text": [
      "/\n",
      "    population1_001.tif\n",
      "    population1_002.tif\n",
      "    population1_003.tif\n",
      "    population1_004.tif\n",
      "    population1_005.tif\n",
      "    population1_006.tif\n",
      "    population1_007.tif\n",
      "    population1_008.tif\n",
      "    population1_009.tif\n",
      "    population1_010.tif\n",
      "    population1_011.tif\n",
      "    population1_012.tif\n",
      "    population1_013.tif\n",
      "    population1_014.tif\n",
      "    population1_015.tif\n",
      "    population1_016.tif\n",
      "    population1_017.tif\n",
      "    population1_018.tif\n",
      "    population1_019.tif\n",
      "    population1_020.tif\n",
      "    population2_001.tif\n",
      "    population2_002.tif\n",
      "    population2_003.tif\n",
      "    population2_004.tif\n",
      "    population2_005.tif\n",
      "    population2_006.tif\n",
      "    population2_007.tif\n",
      "    population2_008.tif\n",
      "    population2_009.tif\n",
      "    population2_010.tif\n",
      "    population2_011.tif\n",
      "    population2_012.tif\n",
      "    population2_013.tif\n",
      "    population2_014.tif\n",
      "    population2_015.tif\n",
      "    population2_016.tif\n",
      "    population2_017.tif\n",
      "    population2_018.tif\n",
      "    population2_019.tif\n",
      "    population2_020.tif\n"
     ]
    }
   ],
   "source": [
    "list_files('./synthetic_data/data/') "
   ]
  },
  {
   "cell_type": "markdown",
   "metadata": {},
   "source": [
    "This data set contains 40 `.tif` images separated in two populations of 20 images. These images are 128*128 2D images containing spots and noise. Population1 images contains an average of 3.4 spots and Population2 images contains an average of 4.7 spots. Let visualize two samples:"
   ]
  },
  {
   "cell_type": "code",
   "execution_count": 9,
   "metadata": {},
   "outputs": [
    {
     "data": {
      "image/png": "[encoded data removed]",
      "text/plain": [
       "<Figure size 432x288 with 1 Axes>"
      ]
     },
     "metadata": {
      "needs_background": "light"
     },
     "output_type": "display_data"
    },
    {
     "data": {
      "image/png": "[encoded data removed]",
      "text/plain": [
       "<Figure size 432x288 with 1 Axes>"
      ]
     },
     "metadata": {
      "needs_background": "light"
     },
     "output_type": "display_data"
    }
   ],
   "source": [
    "import matplotlib.pyplot as plt\n",
    "import matplotlib.image as mpimg\n",
    "img=mpimg.imread('./synthetic_data/data/population1_001.tif')\n",
    "imgplot = plt.imshow(img)\n",
    "plt.show()\n",
    "img2=mpimg.imread('./synthetic_data/data/population2_001.tif')\n",
    "imgplot = plt.imshow(img2)\n",
    "plt.show()"
   ]
  },
  {
   "cell_type": "markdown",
   "metadata": {},
   "source": [
    "To import the data in the experiment, we just need to call the `import_dir()` method from the experiment module:"
   ]
  },
  {
   "cell_type": "code",
   "execution_count": 10,
   "metadata": {
    "scrolled": true
   },
   "outputs": [
    {
     "name": "stdout",
     "output_type": "stream",
     "text": [
      "myexperiment/\n",
      "    experiment.md.json\n",
      "    data/\n",
      "        population1_001.md.json\n",
      "        population1_001.tif\n",
      "        population1_002.md.json\n",
      "        population1_002.tif\n",
      "        population1_003.md.json\n",
      "        population1_003.tif\n",
      "        population1_004.md.json\n",
      "        population1_004.tif\n",
      "        population1_005.md.json\n",
      "        population1_005.tif\n",
      "        population1_006.md.json\n",
      "        population1_006.tif\n",
      "        population1_007.md.json\n",
      "        population1_007.tif\n",
      "        population1_008.md.json\n",
      "        population1_008.tif\n",
      "        population1_009.md.json\n",
      "        population1_009.tif\n",
      "        population1_010.md.json\n",
      "        population1_010.tif\n",
      "        population1_011.md.json\n",
      "        population1_011.tif\n",
      "        population1_012.md.json\n",
      "        population1_012.tif\n",
      "        population1_013.md.json\n",
      "        population1_013.tif\n",
      "        population1_014.md.json\n",
      "        population1_014.tif\n",
      "        population1_015.md.json\n",
      "        population1_015.tif\n",
      "        population1_016.md.json\n",
      "        population1_016.tif\n",
      "        population1_017.md.json\n",
      "        population1_017.tif\n",
      "        population1_018.md.json\n",
      "        population1_018.tif\n",
      "        population1_019.md.json\n",
      "        population1_019.tif\n",
      "        population1_020.md.json\n",
      "        population1_020.tif\n",
      "        population2_001.md.json\n",
      "        population2_001.tif\n",
      "        population2_002.md.json\n",
      "        population2_002.tif\n",
      "        population2_003.md.json\n",
      "        population2_003.tif\n",
      "        population2_004.md.json\n",
      "        population2_004.tif\n",
      "        population2_005.md.json\n",
      "        population2_005.tif\n",
      "        population2_006.md.json\n",
      "        population2_006.tif\n",
      "        population2_007.md.json\n",
      "        population2_007.tif\n",
      "        population2_008.md.json\n",
      "        population2_008.tif\n",
      "        population2_009.md.json\n",
      "        population2_009.tif\n",
      "        population2_010.md.json\n",
      "        population2_010.tif\n",
      "        population2_011.md.json\n",
      "        population2_011.tif\n",
      "        population2_012.md.json\n",
      "        population2_012.tif\n",
      "        population2_013.md.json\n",
      "        population2_013.tif\n",
      "        population2_014.md.json\n",
      "        population2_014.tif\n",
      "        population2_015.md.json\n",
      "        population2_015.tif\n",
      "        population2_016.md.json\n",
      "        population2_016.tif\n",
      "        population2_017.md.json\n",
      "        population2_017.tif\n",
      "        population2_018.md.json\n",
      "        population2_018.tif\n",
      "        population2_019.md.json\n",
      "        population2_019.tif\n",
      "        population2_020.md.json\n",
      "        population2_020.tif\n",
      "        rawdataset.md.json\n"
     ]
    }
   ],
   "source": [
    "# import the data\n",
    "my_experiment.import_dir(dir_uri='./synthetic_data/data/',\n",
    "                         filter=\"\\.tif$\",\n",
    "                         author='Sylvain Prigent', \n",
    "                         format='tif', \n",
    "                         date='2019-03-17', \n",
    "                         copy_data=True)\n",
    "\n",
    "# show the experiment directory\n",
    "list_files('./myexperiment') "
   ]
  },
  {
   "cell_type": "markdown",
   "metadata": {},
   "source": [
    "The parameters of the `import_dir()` method are this following:  \n",
    "1. `dir_uri` is the directory where the origin data are. \n",
    "2. `filter` is a regular expression not to import all the files from the `dir_uri` but only specific ones. Here we select only the files that ends with *.tif*. \n",
    "3. `author` is the data author name for the common metadata, \n",
    "4. `format` is the data format for the common metadata, \n",
    "5. `date` is the data created date for the common metadata, \n",
    "6. `copy_data` option specify if we want to copy or not the data. \n",
    "\n",
    "Here since the data are small, we decided to copy them. If we do not copy the data, only the `.md.json` files will be created. Let open the `rawdataset.md.json` metadata file:"
   ]
  },
  {
   "cell_type": "code",
   "execution_count": 11,
   "metadata": {
    "scrolled": true
   },
   "outputs": [
    {
     "name": "stdout",
     "output_type": "stream",
     "text": [
      "{\n",
      "    \"name\": \"data\",\n",
      "    \"urls\": [\n",
      "        \"population1_001.md.json\",\n",
      "        \"population1_015.md.json\",\n",
      "        \"population1_014.md.json\",\n",
      "        \"population1_016.md.json\",\n",
      "        \"population1_002.md.json\",\n",
      "        \"population1_003.md.json\",\n",
      "        \"population1_017.md.json\",\n",
      "        \"population1_013.md.json\",\n",
      "        \"population1_007.md.json\",\n",
      "        \"population1_006.md.json\",\n",
      "        \"population1_012.md.json\",\n",
      "        \"population1_004.md.json\",\n",
      "        \"population1_010.md.json\",\n",
      "        \"population1_011.md.json\",\n",
      "        \"population1_005.md.json\",\n",
      "        \"population2_016.md.json\",\n",
      "        \"population2_002.md.json\",\n",
      "        \"population2_003.md.json\",\n",
      "        \"population2_017.md.json\",\n",
      "        \"population2_001.md.json\",\n",
      "        \"population2_015.md.json\",\n",
      "        \"population2_014.md.json\",\n",
      "        \"population2_004.md.json\",\n",
      "        \"population2_010.md.json\",\n",
      "        \"population2_011.md.json\",\n",
      "        \"population2_005.md.json\",\n",
      "        \"population2_013.md.json\",\n",
      "        \"population2_007.md.json\",\n",
      "        \"population2_006.md.json\",\n",
      "        \"population2_012.md.json\",\n",
      "        \"population2_020.md.json\",\n",
      "        \"population2_008.md.json\",\n",
      "        \"population2_009.md.json\",\n",
      "        \"population2_019.md.json\",\n",
      "        \"population2_018.md.json\",\n",
      "        \"population1_020.md.json\",\n",
      "        \"population1_008.md.json\",\n",
      "        \"population1_009.md.json\",\n",
      "        \"population1_019.md.json\",\n",
      "        \"population1_018.md.json\"\n",
      "    ]\n",
      "}\n"
     ]
    }
   ],
   "source": [
    "with open('./myexperiment/data/rawdataset.md.json', 'r') as fin:\n",
    "    print(fin.read())"
   ]
  },
  {
   "cell_type": "markdown",
   "metadata": {},
   "source": [
    "Now it contains the relative paths to all the *RawData* metadata files. Let see the content of a *RawData* metadata file:"
   ]
  },
  {
   "cell_type": "code",
   "execution_count": 12,
   "metadata": {
    "scrolled": false
   },
   "outputs": [
    {
     "name": "stdout",
     "output_type": "stream",
     "text": [
      "{\n",
      "    \"origin\": {\n",
      "        \"type\": \"raw\"\n",
      "    },\n",
      "    \"common\": {\n",
      "        \"name\": \"population1_001.tif\",\n",
      "        \"author\": \"Sylvain Prigent\",\n",
      "        \"date\": \"2019-03-17\",\n",
      "        \"format\": \"\",\n",
      "        \"url\": \"population1_001.tif\"\n",
      "    },\n",
      "    \"tags\": {}\n",
      "}\n"
     ]
    }
   ],
   "source": [
    "with open('./myexperiment/data/population1_001.md.json', 'r') as fin:\n",
    "    print(fin.read())"
   ]
  },
  {
   "cell_type": "markdown",
   "metadata": {},
   "source": [
    "The *common* section contains the metadata we specified during the import and the relative url of the data file `population1_001.tif`. We can notice the *origin* section which specify that this data is of type raw.\n",
    "\n",
    "In this tutorial, we manually read the `.md.json` files for a didactic purpose. In normal use of **BioImagePy**, we do not do it, since these file are the backend of **BioImagePy**. Now that you know how it works in the backend, we can use the high level display functions of **BioImagePy**. \n",
    "\n",
    "To display the content (metadata, and *RawData* ) of an *Experiment*, we just need to call the `diplay()` method on an experiment:"
   ]
  },
  {
   "cell_type": "code",
   "execution_count": 13,
   "metadata": {
    "scrolled": true
   },
   "outputs": [
    {
     "name": "stdout",
     "output_type": "stream",
     "text": [
      "--------------------\n",
      "Experiment: \n",
      "\tName:  myexperiment\n",
      "\tAuthor:  Sylvain Prigent\n",
      "\tCreated:  2020-03-25\n",
      "\tTags: \n",
      "\tDataSet:  data\n",
      "+---------------------+-----------------+--------------+\n",
      "|         Name        |      Author     | Created date |\n",
      "+---------------------+-----------------+--------------+\n",
      "| population1_001.tif | Sylvain Prigent |  2019-03-17  |\n",
      "| population1_015.tif | Sylvain Prigent |  2019-03-17  |\n",
      "| population1_014.tif | Sylvain Prigent |  2019-03-17  |\n",
      "| population1_016.tif | Sylvain Prigent |  2019-03-17  |\n",
      "| population1_002.tif | Sylvain Prigent |  2019-03-17  |\n",
      "| population1_003.tif | Sylvain Prigent |  2019-03-17  |\n",
      "| population1_017.tif | Sylvain Prigent |  2019-03-17  |\n",
      "| population1_013.tif | Sylvain Prigent |  2019-03-17  |\n",
      "| population1_007.tif | Sylvain Prigent |  2019-03-17  |\n",
      "| population1_006.tif | Sylvain Prigent |  2019-03-17  |\n",
      "| population1_012.tif | Sylvain Prigent |  2019-03-17  |\n",
      "| population1_004.tif | Sylvain Prigent |  2019-03-17  |\n",
      "| population1_010.tif | Sylvain Prigent |  2019-03-17  |\n",
      "| population1_011.tif | Sylvain Prigent |  2019-03-17  |\n",
      "| population1_005.tif | Sylvain Prigent |  2019-03-17  |\n",
      "| population2_016.tif | Sylvain Prigent |  2019-03-17  |\n",
      "| population2_002.tif | Sylvain Prigent |  2019-03-17  |\n",
      "| population2_003.tif | Sylvain Prigent |  2019-03-17  |\n",
      "| population2_017.tif | Sylvain Prigent |  2019-03-17  |\n",
      "| population2_001.tif | Sylvain Prigent |  2019-03-17  |\n",
      "| population2_015.tif | Sylvain Prigent |  2019-03-17  |\n",
      "| population2_014.tif | Sylvain Prigent |  2019-03-17  |\n",
      "| population2_004.tif | Sylvain Prigent |  2019-03-17  |\n",
      "| population2_010.tif | Sylvain Prigent |  2019-03-17  |\n",
      "| population2_011.tif | Sylvain Prigent |  2019-03-17  |\n",
      "| population2_005.tif | Sylvain Prigent |  2019-03-17  |\n",
      "| population2_013.tif | Sylvain Prigent |  2019-03-17  |\n",
      "| population2_007.tif | Sylvain Prigent |  2019-03-17  |\n",
      "| population2_006.tif | Sylvain Prigent |  2019-03-17  |\n",
      "| population2_012.tif | Sylvain Prigent |  2019-03-17  |\n",
      "| population2_020.tif | Sylvain Prigent |  2019-03-17  |\n",
      "| population2_008.tif | Sylvain Prigent |  2019-03-17  |\n",
      "| population2_009.tif | Sylvain Prigent |  2019-03-17  |\n",
      "| population2_019.tif | Sylvain Prigent |  2019-03-17  |\n",
      "| population2_018.tif | Sylvain Prigent |  2019-03-17  |\n",
      "| population1_020.tif | Sylvain Prigent |  2019-03-17  |\n",
      "| population1_008.tif | Sylvain Prigent |  2019-03-17  |\n",
      "| population1_009.tif | Sylvain Prigent |  2019-03-17  |\n",
      "| population1_019.tif | Sylvain Prigent |  2019-03-17  |\n",
      "| population1_018.tif | Sylvain Prigent |  2019-03-17  |\n",
      "+---------------------+-----------------+--------------+\n"
     ]
    }
   ],
   "source": [
    "import bioimagepy.experiment as experiment\n",
    "\n",
    "# Display the experiment\n",
    "my_experiment.display()"
   ]
  },
  {
   "cell_type": "markdown",
   "metadata": {},
   "source": [
    "## Tag the RawData\n",
    "\n",
    "One of the main advantage of the **BioImageIT** storage system with `.md.json` files is to be able to add tags to each `RawData`. With this tags, we will be able to query the data. \n",
    "\n",
    "For example, when we will analyse the data, we will need to perform a statistical test to determine if the *Population 1* and the *Population 2* have statistically different number of spots. Without tagging, we need to write a script that list and parse the *RawData* files and sort the data to analyse results depending on the image names (starting with *population1* or *population2*). With the tagging system, we only need to query **BioImagePy** to get the data containing the label *Population1* and *Population2* separatly.\n",
    "\n",
    "But first we need to tag the *RawData* !\n",
    "\n",
    "Each *RawData* file store the tags of it corresponding data, and the `experiment.md.json` file store the list of tags that are used in the *Experiment*.\n",
    "Tags edition can be done manually with the dedicated methods of the classes *RawData* and *Experiment* (see **BioImagePy** documentation). Nevertheless it is tedious. Thus, **BioImagePy** have a set of functions (starting with `tag\\_`) to automatically tags the `RawData` from the data files names:\n"
   ]
  },
  {
   "cell_type": "code",
   "execution_count": 15,
   "metadata": {
    "scrolled": true
   },
   "outputs": [
    {
     "name": "stdout",
     "output_type": "stream",
     "text": [
      "--------------------\n",
      "Experiment: \n",
      "\tName:  myexperiment\n",
      "\tAuthor:  Sylvain Prigent\n",
      "\tCreated:  2020-03-25\n",
      "\tTags: \n",
      "\t\t- Population\n",
      "\tDataSet:  data\n",
      "+---------------------+-------------+-----------------+--------------+\n",
      "|         Name        |  Population |      Author     | Created date |\n",
      "+---------------------+-------------+-----------------+--------------+\n",
      "| population1_001.tif | population1 | Sylvain Prigent |  2019-03-17  |\n",
      "| population1_015.tif | population1 | Sylvain Prigent |  2019-03-17  |\n",
      "| population1_014.tif | population1 | Sylvain Prigent |  2019-03-17  |\n",
      "| population1_016.tif | population1 | Sylvain Prigent |  2019-03-17  |\n",
      "| population1_002.tif | population1 | Sylvain Prigent |  2019-03-17  |\n",
      "| population1_003.tif | population1 | Sylvain Prigent |  2019-03-17  |\n",
      "| population1_017.tif | population1 | Sylvain Prigent |  2019-03-17  |\n",
      "| population1_013.tif | population1 | Sylvain Prigent |  2019-03-17  |\n",
      "| population1_007.tif | population1 | Sylvain Prigent |  2019-03-17  |\n",
      "| population1_006.tif | population1 | Sylvain Prigent |  2019-03-17  |\n",
      "| population1_012.tif | population1 | Sylvain Prigent |  2019-03-17  |\n",
      "| population1_004.tif | population1 | Sylvain Prigent |  2019-03-17  |\n",
      "| population1_010.tif | population1 | Sylvain Prigent |  2019-03-17  |\n",
      "| population1_011.tif | population1 | Sylvain Prigent |  2019-03-17  |\n",
      "| population1_005.tif | population1 | Sylvain Prigent |  2019-03-17  |\n",
      "| population2_016.tif | population2 | Sylvain Prigent |  2019-03-17  |\n",
      "| population2_002.tif | population2 | Sylvain Prigent |  2019-03-17  |\n",
      "| population2_003.tif | population2 | Sylvain Prigent |  2019-03-17  |\n",
      "| population2_017.tif | population2 | Sylvain Prigent |  2019-03-17  |\n",
      "| population2_001.tif | population2 | Sylvain Prigent |  2019-03-17  |\n",
      "| population2_015.tif | population2 | Sylvain Prigent |  2019-03-17  |\n",
      "| population2_014.tif | population2 | Sylvain Prigent |  2019-03-17  |\n",
      "| population2_004.tif | population2 | Sylvain Prigent |  2019-03-17  |\n",
      "| population2_010.tif | population2 | Sylvain Prigent |  2019-03-17  |\n",
      "| population2_011.tif | population2 | Sylvain Prigent |  2019-03-17  |\n",
      "| population2_005.tif | population2 | Sylvain Prigent |  2019-03-17  |\n",
      "| population2_013.tif | population2 | Sylvain Prigent |  2019-03-17  |\n",
      "| population2_007.tif | population2 | Sylvain Prigent |  2019-03-17  |\n",
      "| population2_006.tif | population2 | Sylvain Prigent |  2019-03-17  |\n",
      "| population2_012.tif | population2 | Sylvain Prigent |  2019-03-17  |\n",
      "| population2_020.tif | population2 | Sylvain Prigent |  2019-03-17  |\n",
      "| population2_008.tif | population2 | Sylvain Prigent |  2019-03-17  |\n",
      "| population2_009.tif | population2 | Sylvain Prigent |  2019-03-17  |\n",
      "| population2_019.tif | population2 | Sylvain Prigent |  2019-03-17  |\n",
      "| population2_018.tif | population2 | Sylvain Prigent |  2019-03-17  |\n",
      "| population1_020.tif | population1 | Sylvain Prigent |  2019-03-17  |\n",
      "| population1_008.tif | population1 | Sylvain Prigent |  2019-03-17  |\n",
      "| population1_009.tif | population1 | Sylvain Prigent |  2019-03-17  |\n",
      "| population1_019.tif | population1 | Sylvain Prigent |  2019-03-17  |\n",
      "| population1_018.tif | population1 | Sylvain Prigent |  2019-03-17  |\n",
      "+---------------------+-------------+-----------------+--------------+\n"
     ]
    }
   ],
   "source": [
    "\n",
    "# Add the tag 'Population' to the experiment and extract the \n",
    "# values 'population1' and 'population2' from the images names\n",
    "my_experiment.tag_from_name(\"Population\", ['population1', 'population2'] )\n",
    "my_experiment.display()"
   ]
  },
  {
   "cell_type": "markdown",
   "metadata": {},
   "source": [
    "With a single line of code we added the tag *'Population'* to the experiment and extracted the values from the images names. When we display the experiment we now see the tags added to the images.\n",
    "\n",
    "Now, we may want to extract the identifier of each image. It means extracting the characters after the *'\\_'* and before file extention in the file name:\n"
   ]
  },
  {
   "cell_type": "code",
   "execution_count": 16,
   "metadata": {
    "scrolled": true
   },
   "outputs": [
    {
     "name": "stdout",
     "output_type": "stream",
     "text": [
      "--------------------\n",
      "Experiment: \n",
      "\tName:  myexperiment\n",
      "\tAuthor:  Sylvain Prigent\n",
      "\tCreated:  2020-03-25\n",
      "\tTags: \n",
      "\t\t- Population\n",
      "\t\t- number\n",
      "\tDataSet:  data\n",
      "+---------------------+-------------+--------+-----------------+--------------+\n",
      "|         Name        |  Population | number |      Author     | Created date |\n",
      "+---------------------+-------------+--------+-----------------+--------------+\n",
      "| population1_001.tif | population1 |  001   | Sylvain Prigent |  2019-03-17  |\n",
      "| population1_015.tif | population1 |  015   | Sylvain Prigent |  2019-03-17  |\n",
      "| population1_014.tif | population1 |  014   | Sylvain Prigent |  2019-03-17  |\n",
      "| population1_016.tif | population1 |  016   | Sylvain Prigent |  2019-03-17  |\n",
      "| population1_002.tif | population1 |  002   | Sylvain Prigent |  2019-03-17  |\n",
      "| population1_003.tif | population1 |  003   | Sylvain Prigent |  2019-03-17  |\n",
      "| population1_017.tif | population1 |  017   | Sylvain Prigent |  2019-03-17  |\n",
      "| population1_013.tif | population1 |  013   | Sylvain Prigent |  2019-03-17  |\n",
      "| population1_007.tif | population1 |  007   | Sylvain Prigent |  2019-03-17  |\n",
      "| population1_006.tif | population1 |  006   | Sylvain Prigent |  2019-03-17  |\n",
      "| population1_012.tif | population1 |  012   | Sylvain Prigent |  2019-03-17  |\n",
      "| population1_004.tif | population1 |  004   | Sylvain Prigent |  2019-03-17  |\n",
      "| population1_010.tif | population1 |  010   | Sylvain Prigent |  2019-03-17  |\n",
      "| population1_011.tif | population1 |  011   | Sylvain Prigent |  2019-03-17  |\n",
      "| population1_005.tif | population1 |  005   | Sylvain Prigent |  2019-03-17  |\n",
      "| population2_016.tif | population2 |  016   | Sylvain Prigent |  2019-03-17  |\n",
      "| population2_002.tif | population2 |  002   | Sylvain Prigent |  2019-03-17  |\n",
      "| population2_003.tif | population2 |  003   | Sylvain Prigent |  2019-03-17  |\n",
      "| population2_017.tif | population2 |  017   | Sylvain Prigent |  2019-03-17  |\n",
      "| population2_001.tif | population2 |  001   | Sylvain Prigent |  2019-03-17  |\n",
      "| population2_015.tif | population2 |  015   | Sylvain Prigent |  2019-03-17  |\n",
      "| population2_014.tif | population2 |  014   | Sylvain Prigent |  2019-03-17  |\n",
      "| population2_004.tif | population2 |  004   | Sylvain Prigent |  2019-03-17  |\n",
      "| population2_010.tif | population2 |  010   | Sylvain Prigent |  2019-03-17  |\n",
      "| population2_011.tif | population2 |  011   | Sylvain Prigent |  2019-03-17  |\n",
      "| population2_005.tif | population2 |  005   | Sylvain Prigent |  2019-03-17  |\n",
      "| population2_013.tif | population2 |  013   | Sylvain Prigent |  2019-03-17  |\n",
      "| population2_007.tif | population2 |  007   | Sylvain Prigent |  2019-03-17  |\n",
      "| population2_006.tif | population2 |  006   | Sylvain Prigent |  2019-03-17  |\n",
      "| population2_012.tif | population2 |  012   | Sylvain Prigent |  2019-03-17  |\n",
      "| population2_020.tif | population2 |  020   | Sylvain Prigent |  2019-03-17  |\n",
      "| population2_008.tif | population2 |  008   | Sylvain Prigent |  2019-03-17  |\n",
      "| population2_009.tif | population2 |  009   | Sylvain Prigent |  2019-03-17  |\n",
      "| population2_019.tif | population2 |  019   | Sylvain Prigent |  2019-03-17  |\n",
      "| population2_018.tif | population2 |  018   | Sylvain Prigent |  2019-03-17  |\n",
      "| population1_020.tif | population1 |  020   | Sylvain Prigent |  2019-03-17  |\n",
      "| population1_008.tif | population1 |  008   | Sylvain Prigent |  2019-03-17  |\n",
      "| population1_009.tif | population1 |  009   | Sylvain Prigent |  2019-03-17  |\n",
      "| population1_019.tif | population1 |  019   | Sylvain Prigent |  2019-03-17  |\n",
      "| population1_018.tif | population1 |  018   | Sylvain Prigent |  2019-03-17  |\n",
      "+---------------------+-------------+--------+-----------------+--------------+\n"
     ]
    }
   ],
   "source": [
    "# extract the image number using the separator tag parser\n",
    "my_experiment.tag_using_seperator(tag=\"number\", separator=\"_\", value_position=1)  \n",
    "my_experiment.display()"
   ]
  },
  {
   "cell_type": "markdown",
   "metadata": {},
   "source": [
    "The function `tag_using_seperator` create a tag called *'number'* in the *Experiment*, and get the values for each *RawData* by taging the second filename part (`value_position=1`) by parsing the filename with the separator *'\\_'* (`separator=\"\\_\"`)\n",
    "\n",
    "With only two line of code, we tags all the data with the population and the image number. Now we can query the data.\n",
    "For example let extract the data from one population:"
   ]
  },
  {
   "cell_type": "code",
   "execution_count": 17,
   "metadata": {},
   "outputs": [
    {
     "name": "stdout",
     "output_type": "stream",
     "text": [
      "./myexperiment/data/population1_001.tif\n",
      "./myexperiment/data/population1_015.tif\n",
      "./myexperiment/data/population1_014.tif\n",
      "./myexperiment/data/population1_016.tif\n",
      "./myexperiment/data/population1_002.tif\n",
      "./myexperiment/data/population1_003.tif\n",
      "./myexperiment/data/population1_017.tif\n",
      "./myexperiment/data/population1_013.tif\n",
      "./myexperiment/data/population1_007.tif\n",
      "./myexperiment/data/population1_006.tif\n",
      "./myexperiment/data/population1_012.tif\n",
      "./myexperiment/data/population1_004.tif\n",
      "./myexperiment/data/population1_010.tif\n",
      "./myexperiment/data/population1_011.tif\n",
      "./myexperiment/data/population1_005.tif\n",
      "./myexperiment/data/population1_020.tif\n",
      "./myexperiment/data/population1_008.tif\n",
      "./myexperiment/data/population1_009.tif\n",
      "./myexperiment/data/population1_019.tif\n",
      "./myexperiment/data/population1_018.tif\n"
     ]
    }
   ],
   "source": [
    "# Extract RawData for population 1\n",
    "data_list = my_experiment.get_data(\"data\", \"Population=population1\")\n",
    "\n",
    "# The query function returns a list of BiRawData objects, so we print the name of each selected data\n",
    "for data in data_list:\n",
    "    print(data)"
   ]
  },
  {
   "cell_type": "markdown",
   "metadata": {},
   "source": [
    "If we need to process some specific data from the '*population 1*' *RawData* we can conbine queries with the **AND** keyword:\n"
   ]
  },
  {
   "cell_type": "code",
   "execution_count": 18,
   "metadata": {},
   "outputs": [
    {
     "name": "stdout",
     "output_type": "stream",
     "text": [
      "./myexperiment/data/population2_002.tif\n",
      "./myexperiment/data/population2_001.tif\n"
     ]
    }
   ],
   "source": [
    "# Extract RawData for population 1 with number <= 2\n",
    "data_list = my_experiment.get_data(\"data\", \"Population=population2 AND number<=2\")\n",
    "\n",
    "# The query function returns a list of BiRawData objects, so we print the name of each selected data\n",
    "for data in data_list:\n",
    "    print(data)"
   ]
  },
  {
   "cell_type": "markdown",
   "metadata": {},
   "source": [
    "## Wrapping up\n",
    "\n",
    "In this tutorial, we saw the basic functionnalities of the **BioImagePy** to store and tag experimental data into an `Experiment` data strucure. The usualy tedious task is made easy using few python methods:\n",
    "1. `create`: to create the *Experiment* metadata structure\n",
    "2. `import_dir`: to import filtered data from a directory. One may use `import_data` to import a single data\n",
    "3. `tag\\_\\*`: functions to extract tag from file names. One can also manually edit tags with specific functions (see **BioImagePy** documentation)\n",
    "4. `get_data`: function to select some data using queries on the tags (ex: `Population=population1`)"
   ]
  }
 ],
 "metadata": {
  "kernelspec": {
   "display_name": "Python 3",
   "language": "python",
   "name": "python3"
  },
  "language_info": {
   "codemirror_mode": {
    "name": "ipython",
    "version": 3
   },
   "file_extension": ".py",
   "mimetype": "text/x-python",
   "name": "python",
   "nbconvert_exporter": "python",
   "pygments_lexer": "ipython3",
   "version": "3.7.3"
  }
 },
 "nbformat": 4,
 "nbformat_minor": 2
}
